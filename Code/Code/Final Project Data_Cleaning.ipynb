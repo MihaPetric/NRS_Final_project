{
 "cells": [
  {
   "cell_type": "markdown",
   "metadata": {},
   "source": [
    "###  Final Project New Role Data Scientist"
   ]
  },
  {
   "cell_type": "markdown",
   "metadata": {},
   "source": [
    "### A. Getting Started"
   ]
  },
  {
   "cell_type": "markdown",
   "metadata": {},
   "source": [
    "##### 1. Project description summary\n",
    "For a company that sells insurance for group travel develop a retention model. <br/>\n",
    "The internal data is (a) Sales, (b) Finance and (c) CRM. <br/>\n",
    "The external data consists of twitter posts.\n"
   ]
  },
  {
   "cell_type": "code",
   "execution_count": 50,
   "metadata": {},
   "outputs": [
    {
     "name": "stdout",
     "output_type": "stream",
     "text": [
      "d:\\Projects\\Jupiter\\venv\\final proj\n"
     ]
    }
   ],
   "source": [
    "##### 2. Import needed packages\n",
    "import pandas as pd\n",
    "import os as os\n",
    "import datetime as dt\n",
    "wd = os.getcwd()\n",
    "print(wd)"
   ]
  },
  {
   "cell_type": "markdown",
   "metadata": {},
   "source": [
    "##### 3. Available Data \n",
    "\n"
   ]
  },
  {
   "cell_type": "code",
   "execution_count": 52,
   "metadata": {},
   "outputs": [],
   "source": [
    "sales = pd.read_csv(wd + \"\\dataset\\\\sales_model.csv\")\n",
    "finance = pd.read_csv(wd + \"\\dataset\\\\finance_model.csv\")\n",
    "crm = pd.read_csv(wd + \"\\dataset\\\\crm_model.csv\")\n",
    "twitter = pd.read_csv(wd + \"\\dataset\\\\tw_data_clean.csv\")"
   ]
  },
  {
   "cell_type": "markdown",
   "metadata": {},
   "source": [
    "Import the datasets"
   ]
  },
  {
   "cell_type": "markdown",
   "metadata": {},
   "source": [
    "Inspect the datasets"
   ]
  },
  {
   "cell_type": "code",
   "execution_count": 53,
   "metadata": {},
   "outputs": [
    {
     "name": "stdout",
     "output_type": "stream",
     "text": [
      "(4153, 24)\n",
      "(4151, 12)\n",
      "(4148, 20)\n"
     ]
    }
   ],
   "source": [
    "#to see details of a dataset uncomment some of the following lines:\n",
    "\n",
    "#sales.dtypes\n",
    "print(sales.shape) # output: (4200, 32)\n",
    "#sales.iloc[:,0:15].head(10)\n",
    "#sales.iloc[:,16:32].head(10)\n",
    "#finance.dtypes\n",
    "print(finance.shape) # output: (4200, 9) \n",
    "#finance.head(3)\n",
    "#crm.dtypes\n",
    "print(crm.shape) # output: (4200, 16)\n",
    "#crm.head(3)\n",
    "#twitter.dtypes\n",
    "#twitter.head(3)\n",
    "#twitter.shape # output: (12837, 2)"
   ]
  },
  {
   "cell_type": "markdown",
   "metadata": {},
   "source": [
    "##### 4. Merge Datasets\n",
    "We clean up the ID to be able to merge the data. The twitter dataset has multiple texts per ID so we will merge this after text analytics."
   ]
  },
  {
   "cell_type": "markdown",
   "metadata": {},
   "source": [
    "The format of the IDs is as follows. The actual ID is hidden within. using regular expressions we extract the common IDs as ID2"
   ]
  },
  {
   "cell_type": "code",
   "execution_count": 54,
   "metadata": {},
   "outputs": [
    {
     "name": "stdout",
     "output_type": "stream",
     "text": [
      "CC1387A\n",
      "1389\n",
      "01439P\n",
      "CC1387A\n"
     ]
    }
   ],
   "source": [
    "print(sales.ID_SALES[0])\n",
    "print(finance.ID_FINANCE[0])\n",
    "print(crm.ID_CRM[100])\n",
    "print(twitter.ID_SALES[0])"
   ]
  },
  {
   "cell_type": "markdown",
   "metadata": {},
   "source": [
    "Hidden IDs are *cursive*  <br/>\n",
    "\n",
    "HG-*449*-40686  <br/>\n",
    "*3124*-40201  <br/>\n",
    "LISTED-*1553*  <br/>\n",
    "HD-*668*-40614  <br/>"
   ]
  },
  {
   "cell_type": "code",
   "execution_count": 55,
   "metadata": {},
   "outputs": [
    {
     "data": {
      "text/plain": [
       "0       1387\n",
       "1        139\n",
       "2       1600\n",
       "3       1701\n",
       "4       1773\n",
       "        ... \n",
       "4148      60\n",
       "4149     809\n",
       "4150     925\n",
       "4151     928\n",
       "4152     960\n",
       "Name: ID, Length: 4153, dtype: object"
      ]
     },
     "execution_count": 55,
     "metadata": {},
     "output_type": "execute_result"
    }
   ],
   "source": [
    "sales['ID'] = sales.ID_SALES.str.extract(r'(\\d+)')\n",
    "finance['ID'] = finance.ID_FINANCE.str.extract(r'(\\d+)')\n",
    "crm['ID'] = crm.ID_CRM.str.extract(r'(\\d+)')\n",
    "twitter['ID'] = twitter.ID_SALES.str.extract(r'(\\d+)')\n",
    "sales['ID']"
   ]
  },
  {
   "cell_type": "markdown",
   "metadata": {},
   "source": [
    "The new IDs are unique as should be. Only for the twitter IDs there are multiple texts per ID (number of unique values is smaller then the number of rows of the twitter dataset)."
   ]
  },
  {
   "cell_type": "code",
   "execution_count": 56,
   "metadata": {},
   "outputs": [
    {
     "name": "stdout",
     "output_type": "stream",
     "text": [
      "4153\n",
      "4151\n",
      "4145\n",
      "4148\n"
     ]
    }
   ],
   "source": [
    "print(sales.ID.nunique())\n",
    "print(finance.ID.nunique())\n",
    "print(crm.ID.nunique())\n",
    "print(twitter.ID.nunique())"
   ]
  },
  {
   "cell_type": "markdown",
   "metadata": {},
   "source": [
    "Now we merge the datasets on the new ID also with twitter sentiment analysis data file"
   ]
  },
  {
   "cell_type": "code",
   "execution_count": 57,
   "metadata": {},
   "outputs": [
    {
     "data": {
      "text/plain": [
       "0       1016\n",
       "1        101\n",
       "2       1029\n",
       "3       1036\n",
       "4       1039\n",
       "        ... \n",
       "3090      60\n",
       "3091     809\n",
       "3092     925\n",
       "3093     928\n",
       "3094     960\n",
       "Name: ID, Length: 3095, dtype: object"
      ]
     },
     "execution_count": 57,
     "metadata": {},
     "output_type": "execute_result"
    }
   ],
   "source": [
    "merge1 = sales.merge(finance, on = 'ID', how = 'inner')\n",
    "merge2 = merge1.merge(crm, on = 'ID', how = 'inner')\n",
    "merge2 = merge2.merge(twitter, on ='ID', how = 'inner')\n",
    "merge2.shape\n",
    "merge2['ID']"
   ]
  },
  {
   "cell_type": "markdown",
   "metadata": {},
   "source": [
    "Resulting in the following dataset (after dropping the unneccesary IDs)"
   ]
  },
  {
   "cell_type": "code",
   "execution_count": 58,
   "metadata": {},
   "outputs": [],
   "source": [
    "data_sel = merge2.drop(columns=['ID_SALES_x', 'ID_SALES_y', 'ID_CRM', 'ID_FINANCE','text'])"
   ]
  },
  {
   "cell_type": "code",
   "execution_count": 59,
   "metadata": {},
   "outputs": [
    {
     "data": {
      "text/plain": [
       "Program_Code                       object\n",
       "From_Grade                        float64\n",
       "To_Grade                          float64\n",
       "Group_State                        object\n",
       "Days                                int64\n",
       "Travel_Type                        object\n",
       "Departure_Date                     object\n",
       "Return_Date                        object\n",
       "Early_RPL                          object\n",
       "Latest_RPL                         object\n",
       "Cancelled_Pax                       int64\n",
       "Total_Discount_Pax                  int64\n",
       "Initial_System_Date                object\n",
       "SPR_Product_Type                   object\n",
       "FPP                                 int64\n",
       "Total_Pax                           int64\n",
       "DepartureMonth                     object\n",
       "GroupGradeTypeLow                  object\n",
       "GroupGradeTypeHigh                 object\n",
       "GroupGradeType                     object\n",
       "MajorProgramCode                   object\n",
       "FPP_to_School_enrollment           object\n",
       "Retained                            int64\n",
       "ID                                 object\n",
       "Deposit_Date                       object\n",
       "Special_Pay                        object\n",
       "Tuition                             int64\n",
       "FRP_Active                          int64\n",
       "FRP_Cancelled                       int64\n",
       "FRP_Take_up_percent_               object\n",
       "EZ_Pay_Take_Up_Rate                object\n",
       "School_Sponsor                      int64\n",
       "SPR_Group_Revenue                   int64\n",
       "FPP_to_PAX                         object\n",
       "Num_of_Non_FPP_PAX                  int64\n",
       "Poverty_Code                       object\n",
       "Region                             object\n",
       "CRM_Segment                       float64\n",
       "School_Type                        object\n",
       "Parent_Meeting_Flag                 int64\n",
       "MDR_Low_Grade                      object\n",
       "MDR_High_Grade                    float64\n",
       "Total_School_Enrollment             int64\n",
       "Income_Level                       object\n",
       "SPR_New_Existing                    int64\n",
       "NumberOfMeetingswithParents         int64\n",
       "FirstMeeting                       object\n",
       "LastMeeting                        object\n",
       "DifferenceTraveltoFirstMeeting    float64\n",
       "DifferenceTraveltoLastMeeting     float64\n",
       "SchoolGradeTypeLow                 object\n",
       "SchoolGradeTypeHigh                object\n",
       "SchoolGradeType                    object\n",
       "SchoolSizeIndicator                object\n",
       "polarity                          float64\n",
       "subjectivity                      float64\n",
       "neg                               float64\n",
       "neu                               float64\n",
       "pos                               float64\n",
       "compound                          float64\n",
       "dtype: object"
      ]
     },
     "execution_count": 59,
     "metadata": {},
     "output_type": "execute_result"
    }
   ],
   "source": [
    "data_sel.to_csv(\"merge_model.csv\", index = True)\n",
    "data_sel.dtypes"
   ]
  },
  {
   "cell_type": "markdown",
   "metadata": {},
   "source": [
    "### B. Data Cleaning"
   ]
  },
  {
   "cell_type": "markdown",
   "metadata": {},
   "source": [
    "We check the data for columns with missing values"
   ]
  },
  {
   "cell_type": "code",
   "execution_count": 60,
   "metadata": {
    "scrolled": true
   },
   "outputs": [
    {
     "data": {
      "text/plain": [
       "From_Grade                        float64\n",
       "To_Grade                          float64\n",
       "Early_RPL                          object\n",
       "Latest_RPL                         object\n",
       "Initial_System_Date                object\n",
       "FPP_to_School_enrollment           object\n",
       "Special_Pay                        object\n",
       "FirstMeeting                       object\n",
       "LastMeeting                        object\n",
       "DifferenceTraveltoFirstMeeting    float64\n",
       "DifferenceTraveltoLastMeeting     float64\n",
       "SchoolSizeIndicator                object\n",
       "dtype: object"
      ]
     },
     "execution_count": 60,
     "metadata": {},
     "output_type": "execute_result"
    }
   ],
   "source": [
    "data_sel.loc[:,data_sel.isna().any() == True].dtypes\n",
    "#data_sel.to_csv('data_sel.csv')"
   ]
  },
  {
   "cell_type": "markdown",
   "metadata": {},
   "source": [
    "##### 1.Transform datatype"
   ]
  },
  {
   "cell_type": "code",
   "execution_count": 61,
   "metadata": {},
   "outputs": [
    {
     "name": "stdout",
     "output_type": "stream",
     "text": [
      "object\n"
     ]
    }
   ],
   "source": [
    "# Transform dates in date format\n",
    "data_sel[['Departure_Date',\n",
    "          'Return_Date',\n",
    "          \"Early_RPL\",\n",
    "          \"Latest_RPL\",\n",
    "          'Initial_System_Date',\n",
    "          'Deposit_Date',\n",
    "           'FirstMeeting',\n",
    "           'LastMeeting']] = data_sel[['Departure_Date',\n",
    "          'Return_Date',\n",
    "          \"Early_RPL\",\n",
    "          \"Latest_RPL\",\n",
    "          'Initial_System_Date',\n",
    "          'Deposit_Date',\n",
    "           'FirstMeeting',\n",
    "           'LastMeeting']].apply(pd.to_datetime)\n",
    "print(str(data_sel['FPP_to_School_enrollment'].dtype))\n",
    "if(str(data_sel['FPP_to_PAX'].dtype)== 'object'):\n",
    "    data_sel['FPP_to_PAX'] = data_sel['FPP_to_PAX'].fillna(value='0')\n",
    "    data_sel['FPP_to_PAX'] = data_sel['FPP_to_PAX'].apply(lambda x: str(x.replace(',','.'))).astype(float) \n",
    "if(str(data_sel['FPP_to_School_enrollment'].dtype)== 'object'):\n",
    "    data_sel['FPP_to_School_enrollment'] = data_sel['FPP_to_School_enrollment'].fillna(value='0')\n",
    "    data_sel['FPP_to_School_enrollment'] = data_sel['FPP_to_School_enrollment'].apply(lambda x: str(x.replace(',','.'))).astype(float) \n",
    "if(str(data_sel['FRP_Take_up_percent_'].dtype)== 'object'):\n",
    "    data_sel['FRP_Take_up_percent_'] = data_sel['FRP_Take_up_percent_'].fillna(value='0')\n",
    "    data_sel['FRP_Take_up_percent_'] = data_sel['FRP_Take_up_percent_'].apply(lambda x: str(x.replace(',','.'))).astype(float) \n",
    "if(str(data_sel['EZ_Pay_Take_Up_Rate'].dtype)== 'object'):\n",
    "    data_sel['EZ_Pay_Take_Up_Rate'] = data_sel['EZ_Pay_Take_Up_Rate'].fillna(value='0')\n",
    "    data_sel['EZ_Pay_Take_Up_Rate'] = data_sel['EZ_Pay_Take_Up_Rate'].apply(lambda x: str(x.replace(',','.'))).astype(float) \n",
    "\n",
    "#data_sel.to_csv('data_sel.csv')"
   ]
  },
  {
   "cell_type": "markdown",
   "metadata": {},
   "source": [
    "##### 1. Method\n",
    "We check the amount of missing values, if the amount of missing values is small, we replace them with a mean/median/most frequent value. If the amount of missing values is large we drop the column."
   ]
  },
  {
   "cell_type": "code",
   "execution_count": 62,
   "metadata": {},
   "outputs": [
    {
     "name": "stdout",
     "output_type": "stream",
     "text": [
      "From_Grade\n",
      "6.0     574\n",
      "7.0     539\n",
      "8.0     518\n",
      "9.0     487\n",
      "10.0    312\n",
      "5.0     246\n",
      "NaN     161\n",
      "4.0     100\n",
      "3.0      56\n",
      "11.0     31\n",
      "12.0     30\n",
      "2.0      30\n",
      "13.0      8\n",
      "14.0      2\n",
      "1.0       1\n",
      "Name: From_Grade, dtype: int64\n",
      "To_Grade\n",
      "7.0     525\n",
      "8.0     514\n",
      "9.0     504\n",
      "10.0    500\n",
      "6.0     498\n",
      "NaN     195\n",
      "11.0     70\n",
      "12.0     63\n",
      "5.0      57\n",
      "4.0      44\n",
      "3.0      43\n",
      "13.0     35\n",
      "14.0     25\n",
      "2.0      22\n",
      "Name: To_Grade, dtype: int64\n",
      "Early_RPL\n",
      "NaT           869\n",
      "2018-03-12     40\n",
      "2018-03-29     28\n",
      "2018-04-07     27\n",
      "2018-04-03     27\n",
      "             ... \n",
      "2018-11-03      1\n",
      "2017-10-30      1\n",
      "2017-04-14      1\n",
      "2017-09-30      1\n",
      "2017-10-26      1\n",
      "Name: Early_RPL, Length: 212, dtype: int64\n",
      "Latest_RPL\n",
      "2018-08-31    66\n",
      "2018-09-06    64\n",
      "2018-08-28    63\n",
      "2018-08-25    59\n",
      "2018-09-03    59\n",
      "              ..\n",
      "2017-11-10     1\n",
      "2018-04-28     1\n",
      "2018-12-17     1\n",
      "2018-02-14     1\n",
      "2018-12-27     1\n",
      "Name: Latest_RPL, Length: 303, dtype: int64\n",
      "Initial_System_Date\n",
      "2018-02-25    30\n",
      "2018-04-03    28\n",
      "2018-03-14    28\n",
      "2018-03-28    27\n",
      "2018-02-27    26\n",
      "              ..\n",
      "2017-12-21     1\n",
      "2017-09-20     1\n",
      "2017-11-05     1\n",
      "2018-11-28     1\n",
      "2017-08-27     1\n",
      "Name: Initial_System_Date, Length: 414, dtype: int64\n",
      "Special_Pay\n",
      "NaN    2592\n",
      "FR      380\n",
      "CP       61\n",
      "SA       58\n",
      "0         4\n",
      "Name: Special_Pay, dtype: int64\n",
      "FirstMeeting\n",
      "NaT           352\n",
      "2018-09-21     58\n",
      "2018-09-15     51\n",
      "2018-09-11     51\n",
      "2018-09-22     51\n",
      "             ... \n",
      "2018-02-24      1\n",
      "2018-07-24      1\n",
      "2019-01-17      1\n",
      "2018-08-01      1\n",
      "2018-03-02      1\n",
      "Name: FirstMeeting, Length: 293, dtype: int64\n",
      "LastMeeting\n",
      "NaT           352\n",
      "2018-09-13     69\n",
      "2018-09-18     68\n",
      "2018-09-20     66\n",
      "2018-09-21     66\n",
      "             ... \n",
      "2018-04-19      1\n",
      "2018-12-12      1\n",
      "2018-11-20      1\n",
      "2018-06-04      1\n",
      "2019-04-24      1\n",
      "Name: LastMeeting, Length: 221, dtype: int64\n",
      "DifferenceTraveltoFirstMeeting\n",
      "NaN      352\n",
      "260.0     32\n",
      "258.0     32\n",
      "250.0     31\n",
      "265.0     29\n",
      "        ... \n",
      "347.0      1\n",
      "498.0      1\n",
      "465.0      1\n",
      "95.0       1\n",
      "428.0      1\n",
      "Name: DifferenceTraveltoFirstMeeting, Length: 374, dtype: int64\n",
      "DifferenceTraveltoLastMeeting\n",
      "NaN      352\n",
      "267.0     44\n",
      "254.0     36\n",
      "266.0     35\n",
      "268.0     35\n",
      "        ... \n",
      "303.0      1\n",
      "317.0      1\n",
      "34.0       1\n",
      "647.0      1\n",
      "122.0      1\n",
      "Name: DifferenceTraveltoLastMeeting, Length: 278, dtype: int64\n",
      "SchoolSizeIndicator\n",
      "L      957\n",
      "M-L    895\n",
      "S-M    797\n",
      "S      427\n",
      "NaN     19\n",
      "Name: SchoolSizeIndicator, dtype: int64\n"
     ]
    }
   ],
   "source": [
    "for i in data_sel.loc[:,data_sel.isna().any() == True].columns:\n",
    "    print(i)\n",
    "    print( data_sel[i].value_counts(dropna = False) )"
   ]
  },
  {
   "cell_type": "markdown",
   "metadata": {},
   "source": [
    "We checked the histogram to see if it is ok to take the mean/median"
   ]
  },
  {
   "cell_type": "code",
   "execution_count": 63,
   "metadata": {},
   "outputs": [
    {
     "data": {
      "text/plain": [
       "array([[<AxesSubplot:title={'center':'From_Grade'}>,\n",
       "        <AxesSubplot:title={'center':'To_Grade'}>,\n",
       "        <AxesSubplot:title={'center':'Early_RPL'}>],\n",
       "       [<AxesSubplot:title={'center':'Latest_RPL'}>,\n",
       "        <AxesSubplot:title={'center':'Initial_System_Date'}>,\n",
       "        <AxesSubplot:title={'center':'FirstMeeting'}>],\n",
       "       [<AxesSubplot:title={'center':'LastMeeting'}>,\n",
       "        <AxesSubplot:title={'center':'DifferenceTraveltoFirstMeeting'}>,\n",
       "        <AxesSubplot:title={'center':'DifferenceTraveltoLastMeeting'}>]],\n",
       "      dtype=object)"
      ]
     },
     "execution_count": 63,
     "metadata": {},
     "output_type": "execute_result"
    },
    {
     "data": {
      "image/png": "[encoded data removed]",
      "text/plain": [
       "<Figure size 432x288 with 9 Axes>"
      ]
     },
     "metadata": {
      "needs_background": "light"
     },
     "output_type": "display_data"
    }
   ],
   "source": [
    "data_sel.loc[:,data_sel.isna().any() == True].hist()"
   ]
  },
  {
   "cell_type": "code",
   "execution_count": 64,
   "metadata": {},
   "outputs": [
    {
     "data": {
      "text/plain": [
       "count     3076\n",
       "unique       4\n",
       "top          L\n",
       "freq       957\n",
       "Name: SchoolSizeIndicator, dtype: object"
      ]
     },
     "execution_count": 64,
     "metadata": {},
     "output_type": "execute_result"
    }
   ],
   "source": [
    "data_sel['SchoolSizeIndicator'].describe()"
   ]
  },
  {
   "cell_type": "code",
   "execution_count": 65,
   "metadata": {},
   "outputs": [],
   "source": [
    "data_sel['From_Grade'] = data_sel['From_Grade'].fillna(data_sel['From_Grade'].median())\n",
    "data_sel['To_Grade'] = data_sel['To_Grade'].fillna(data_sel['To_Grade'].median())\n",
    "data_sel['SchoolSizeIndicator'] = data_sel['SchoolSizeIndicator'].fillna(data_sel['SchoolSizeIndicator'].mode()[0])\n",
    "data_sel[\"DifferenceTraveltoFirstMeeting\"] = data_sel[\"DifferenceTraveltoFirstMeeting\"].fillna(data_sel[\"DifferenceTraveltoFirstMeeting\"].median())\n",
    "data_sel[\"DifferenceTraveltoLastMeeting\"] = data_sel[\"DifferenceTraveltoLastMeeting\"].fillna(data_sel[\"DifferenceTraveltoLastMeeting\"].median())"
   ]
  },
  {
   "cell_type": "markdown",
   "metadata": {},
   "source": [
    "The following columns were threated differently:"
   ]
  },
  {
   "cell_type": "markdown",
   "metadata": {},
   "source": [
    "We drop the column Special_Pay (huge amount of missing values), and the unneccesary date columns with a lot of missing or not consistent values"
   ]
  },
  {
   "cell_type": "code",
   "execution_count": 66,
   "metadata": {},
   "outputs": [],
   "source": [
    "data_sel = data_sel.drop(columns=['Special_Pay'])\n",
    "data_sel = data_sel.drop(columns = ['FirstMeeting', 'LastMeeting', 'Latest_RPL', 'Early_RPL', 'Initial_System_Date','DepartureMonth','GroupGradeTypeLow','GroupGradeType','SchoolGradeType'])\n",
    "data_sel = data_sel[data_sel.DifferenceTraveltoLastMeeting>=0]\n",
    "data_sel = data_sel[data_sel.DifferenceTraveltoLastMeeting>=0]"
   ]
  },
  {
   "cell_type": "markdown",
   "metadata": {},
   "source": [
    "##### 2.Now we have the cleaned data set without missing values "
   ]
  },
  {
   "cell_type": "code",
   "execution_count": 67,
   "metadata": {},
   "outputs": [],
   "source": [
    "data_clean = data_sel.copy()"
   ]
  },
  {
   "cell_type": "code",
   "execution_count": 68,
   "metadata": {},
   "outputs": [
    {
     "data": {
      "text/plain": [
       "Program_Code                              object\n",
       "From_Grade                               float64\n",
       "To_Grade                                 float64\n",
       "Group_State                               object\n",
       "Days                                       int64\n",
       "Travel_Type                               object\n",
       "Departure_Date                    datetime64[ns]\n",
       "Return_Date                       datetime64[ns]\n",
       "Cancelled_Pax                              int64\n",
       "Total_Discount_Pax                         int64\n",
       "SPR_Product_Type                          object\n",
       "FPP                                        int64\n",
       "Total_Pax                                  int64\n",
       "GroupGradeTypeHigh                        object\n",
       "MajorProgramCode                          object\n",
       "FPP_to_School_enrollment                 float64\n",
       "Retained                                   int64\n",
       "ID                                        object\n",
       "Deposit_Date                      datetime64[ns]\n",
       "Tuition                                    int64\n",
       "FRP_Active                                 int64\n",
       "FRP_Cancelled                              int64\n",
       "FRP_Take_up_percent_                     float64\n",
       "EZ_Pay_Take_Up_Rate                      float64\n",
       "School_Sponsor                             int64\n",
       "SPR_Group_Revenue                          int64\n",
       "FPP_to_PAX                               float64\n",
       "Num_of_Non_FPP_PAX                         int64\n",
       "Poverty_Code                              object\n",
       "Region                                    object\n",
       "CRM_Segment                              float64\n",
       "School_Type                               object\n",
       "Parent_Meeting_Flag                        int64\n",
       "MDR_Low_Grade                             object\n",
       "MDR_High_Grade                           float64\n",
       "Total_School_Enrollment                    int64\n",
       "Income_Level                              object\n",
       "SPR_New_Existing                           int64\n",
       "NumberOfMeetingswithParents                int64\n",
       "DifferenceTraveltoFirstMeeting           float64\n",
       "DifferenceTraveltoLastMeeting            float64\n",
       "SchoolGradeTypeLow                        object\n",
       "SchoolGradeTypeHigh                       object\n",
       "SchoolSizeIndicator                       object\n",
       "polarity                                 float64\n",
       "subjectivity                             float64\n",
       "neg                                      float64\n",
       "neu                                      float64\n",
       "pos                                      float64\n",
       "compound                                 float64\n",
       "dtype: object"
      ]
     },
     "execution_count": 68,
     "metadata": {},
     "output_type": "execute_result"
    }
   ],
   "source": [
    "data_clean.dtypes"
   ]
  },
  {
   "cell_type": "code",
   "execution_count": 69,
   "metadata": {},
   "outputs": [
    {
     "data": {
      "text/plain": [
       "Program_Code                      False\n",
       "From_Grade                        False\n",
       "To_Grade                          False\n",
       "Group_State                       False\n",
       "Days                              False\n",
       "Travel_Type                       False\n",
       "Departure_Date                    False\n",
       "Return_Date                       False\n",
       "Cancelled_Pax                     False\n",
       "Total_Discount_Pax                False\n",
       "SPR_Product_Type                  False\n",
       "FPP                               False\n",
       "Total_Pax                         False\n",
       "GroupGradeTypeHigh                False\n",
       "MajorProgramCode                  False\n",
       "FPP_to_School_enrollment          False\n",
       "Retained                          False\n",
       "ID                                False\n",
       "Deposit_Date                      False\n",
       "Tuition                           False\n",
       "FRP_Active                        False\n",
       "FRP_Cancelled                     False\n",
       "FRP_Take_up_percent_              False\n",
       "EZ_Pay_Take_Up_Rate               False\n",
       "School_Sponsor                    False\n",
       "SPR_Group_Revenue                 False\n",
       "FPP_to_PAX                        False\n",
       "Num_of_Non_FPP_PAX                False\n",
       "Poverty_Code                      False\n",
       "Region                            False\n",
       "CRM_Segment                       False\n",
       "School_Type                       False\n",
       "Parent_Meeting_Flag               False\n",
       "MDR_Low_Grade                     False\n",
       "MDR_High_Grade                    False\n",
       "Total_School_Enrollment           False\n",
       "Income_Level                      False\n",
       "SPR_New_Existing                  False\n",
       "NumberOfMeetingswithParents       False\n",
       "DifferenceTraveltoFirstMeeting    False\n",
       "DifferenceTraveltoLastMeeting     False\n",
       "SchoolGradeTypeLow                False\n",
       "SchoolGradeTypeHigh               False\n",
       "SchoolSizeIndicator               False\n",
       "polarity                          False\n",
       "subjectivity                      False\n",
       "neg                               False\n",
       "neu                               False\n",
       "pos                               False\n",
       "compound                          False\n",
       "dtype: bool"
      ]
     },
     "execution_count": 69,
     "metadata": {},
     "output_type": "execute_result"
    }
   ],
   "source": [
    "data_clean.isna().any()"
   ]
  },
  {
   "cell_type": "code",
   "execution_count": 70,
   "metadata": {},
   "outputs": [],
   "source": [
    "#type(data_clean)\n",
    "#data_clean.to_csv(\"clean_model.csv\", index = True)"
   ]
  },
  {
   "cell_type": "markdown",
   "metadata": {},
   "source": [
    "##### 3. categories orthonormalization\n",
    "Categories must be translated into orthonormal features"
   ]
  },
  {
   "cell_type": "code",
   "execution_count": 72,
   "metadata": {},
   "outputs": [
    {
     "data": {
      "text/plain": [
       "From_Grade                    float64\n",
       "To_Grade                      float64\n",
       "Days                            int64\n",
       "Departure_Date         datetime64[ns]\n",
       "Return_Date            datetime64[ns]\n",
       "                            ...      \n",
       "Is_MDR_Low_Grade_7              uint8\n",
       "Is_MDR_Low_Grade_8              uint8\n",
       "Is_MDR_Low_Grade_9              uint8\n",
       "Is_MDR_Low_Grade_K              uint8\n",
       "Is_MDR_Low_Grade_PK             uint8\n",
       "Length: 156, dtype: object"
      ]
     },
     "execution_count": 72,
     "metadata": {},
     "output_type": "execute_result"
    }
   ],
   "source": [
    "import numpy as np\n",
    "orth = pd.get_dummies(data_clean,columns=['Region'],prefix=['Is_Region'])\n",
    "orth = pd.get_dummies(orth,columns=['School_Type'],prefix=['Is_School_Type'])\n",
    "orth = pd.get_dummies(orth,columns=['SPR_Product_Type'],prefix=['Is_SPR_Product_Type'])\n",
    "orth = pd.get_dummies(orth,columns=['Group_State'],prefix=['Is_Group_State'])\n",
    "orth = pd.get_dummies(orth,columns=['GroupGradeTypeHigh'],prefix=['Is_GroupGradeTypeHigh'])\n",
    "orth = pd.get_dummies(orth,columns=['MajorProgramCode'],prefix=['Is_MajorProgramCode'])\n",
    "orth = pd.get_dummies(orth,columns=['Program_Code'],prefix=['Is_Program_Code'])\n",
    "orth = pd.get_dummies(orth,columns=['Travel_Type'],prefix=['Is_Travel_Type'])\n",
    "orth = pd.get_dummies(orth,columns=['SchoolGradeTypeLow'],prefix=['Is_SchoolGradeTypeLow'])\n",
    "orth = pd.get_dummies(orth,columns=['SchoolGradeTypeHigh'],prefix=['Is_SchoolGradeTypeHigh'])\n",
    "orth = pd.get_dummies(orth,columns=['SchoolSizeIndicator'],prefix=['Is_SchoolSizeIndicator'])\n",
    "orth = pd.get_dummies(orth,columns=['MDR_Low_Grade'],prefix=['Is_MDR_Low_Grade'])\n",
    "\n",
    "orth.to_csv(\"clean_model_norm.csv\", index = True)\n",
    "orth.dtypes"
   ]
  },
  {
   "cell_type": "code",
   "execution_count": 73,
   "metadata": {},
   "outputs": [],
   "source": [
    "#remove income_level undefined few rows\n",
    "orth = orth[orth.Income_Level != 'Z']\n",
    "orth = orth[orth.Poverty_Code != 'E']\n",
    "#categorize in ordered category\n",
    "from sklearn.preprocessing import LabelEncoder\n",
    "labelencoder = LabelEncoder()\n",
    "orth['Income_Level'] = labelencoder.fit_transform(orth['Income_Level'])\n",
    "orth['Poverty_Code'] = labelencoder.fit_transform(orth['Poverty_Code'])\n",
    "orth.to_csv(\"clean_model_orthnorm.csv\", index = True)"
   ]
  },
  {
   "cell_type": "code",
   "execution_count": 75,
   "metadata": {},
   "outputs": [],
   "source": [
    "#calculate month of departure and return date and diff from deposit date\n",
    "orth['Departure_Month'] = pd.DatetimeIndex(orth['Departure_Date']).month\n",
    "orth['Return_Month'] = pd.DatetimeIndex(orth['Return_Date']).month\n",
    "orth['Deposit_Days'] = (orth['Departure_Date'] - orth['Deposit_Date']).dt.days "
   ]
  },
  {
   "cell_type": "code",
   "execution_count": 76,
   "metadata": {},
   "outputs": [
    {
     "data": {
      "image/png": "[encoded data removed]",
      "text/plain": [
       "<Figure size 432x288 with 1 Axes>"
      ]
     },
     "metadata": {
      "needs_background": "light"
     },
     "output_type": "display_data"
    }
   ],
   "source": [
    "#scale numeric categories to be analyzed\n",
    "from sklearn.preprocessing import StandardScaler\n",
    "scaler = StandardScaler()\n",
    "orth[['Income_Level','Poverty_Code','To_Grade','Days','NumberOfMeetingswithParents']] = scaler.fit_transform(orth[['Income_Level','Poverty_Code','To_Grade','Days','NumberOfMeetingswithParents']])\n",
    "scaler = StandardScaler()\n",
    "orth[['FPP','From_Grade','Cancelled_Pax','Total_Discount_Pax','Total_Pax']] = scaler.fit_transform(orth[['FPP','From_Grade','Cancelled_Pax','Total_Discount_Pax','Total_Pax']])\n",
    "#data_clean.boxplot(column=['FPP','From_Grade','Cancelled_Pax','Total_Discount_Pax','Total_Pax'])\n",
    "orth[['FPP_to_School_enrollment','Tuition','FRP_Active','FRP_Cancelled','FRP_Take_up_percent_']] = scaler.fit_transform(orth[['FPP_to_School_enrollment','Tuition','FRP_Active','FRP_Cancelled','FRP_Take_up_percent_']])\n",
    "#data_clean.boxplot(column=['FPP_to_School_enrollment','Tuition','FRP_Active','FRP_Cancelled','FRP_Take_up_percent_'])\n",
    "orth[['EZ_Pay_Take_Up_Rate','School_Sponsor','SPR_Group_Revenue','FPP_to_PAX','Num_of_Non_FPP_PAX']] = scaler.fit_transform(orth[['EZ_Pay_Take_Up_Rate','School_Sponsor','SPR_Group_Revenue','FPP_to_PAX','Num_of_Non_FPP_PAX']])\n",
    "#data_clean.boxplot(column=['EZ_Pay_Take_Up_Rate','School_Sponsor','SPR_Group_Revenue','FPP_to_PAX','Num_of_Non_FPP_PAX'])\n",
    "#NB: 'MDR_Low_Grade' has K,PK? DifferenceTraveltoFirstMeeting <0, DifferenceTraveltoLasttMeeting<0\n",
    "orth[['CRM_Segment','MDR_High_Grade','Total_School_Enrollment','DifferenceTraveltoFirstMeeting','DifferenceTraveltoLastMeeting','Departure_Month','Return_Month','Deposit_Days']] = scaler.fit_transform(orth[['CRM_Segment','MDR_High_Grade','Total_School_Enrollment','DifferenceTraveltoFirstMeeting','DifferenceTraveltoLastMeeting','Departure_Month','Return_Month','Deposit_Days']])\n",
    "orth.boxplot(column=['CRM_Segment','MDR_High_Grade','Total_School_Enrollment','DifferenceTraveltoFirstMeeting','DifferenceTraveltoLastMeeting'])\n",
    "\n",
    "orth.to_csv(\"clean_model_normalized.csv\", index = True)"
   ]
  }
 ],
 "metadata": {
  "kernelspec": {
   "display_name": "Python 3",
   "language": "python",
   "name": "python3"
  },
  "language_info": {
   "codemirror_mode": {
    "name": "ipython",
    "version": 3
   },
   "file_extension": ".py",
   "mimetype": "text/x-python",
   "name": "python",
   "nbconvert_exporter": "python",
   "pygments_lexer": "ipython3",
   "version": "3.7.4"
  }
 },
 "nbformat": 4,
 "nbformat_minor": 4
}
