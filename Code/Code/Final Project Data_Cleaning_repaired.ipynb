{
 "cells": [
  {
   "cell_type": "markdown",
   "metadata": {},
   "source": [
    "###  Final Project New Role Data Scientist"
   ]
  },
  {
   "cell_type": "markdown",
   "metadata": {},
   "source": [
    "### A. Getting Started"
   ]
  },
  {
   "cell_type": "markdown",
   "metadata": {},
   "source": [
    "##### 1. Project description summary\n",
    "For a company that sells insurance for group travel develop a retention model. <br/>\n",
    "The internal data is (a) Sales, (b) Finance and (c) CRM. <br/>\n",
    "The external data consists of twitter posts.\n"
   ]
  },
  {
   "cell_type": "code",
   "execution_count": 1,
   "metadata": {},
   "outputs": [
    {
     "name": "stdout",
     "output_type": "stream",
     "text": [
      "C:\\Users\\generalids\\Desktop\\Final_project\n"
     ]
    }
   ],
   "source": [
    "##### 2. Import needed packages\n",
    "import pandas as pd\n",
    "import os as os\n",
    "import datetime as dt\n",
    "wd = os.getcwd()\n",
    "print(wd)"
   ]
  },
  {
   "cell_type": "markdown",
   "metadata": {},
   "source": [
    "##### 3. Available Data \n",
    "\n"
   ]
  },
  {
   "cell_type": "code",
   "execution_count": 2,
   "metadata": {},
   "outputs": [],
   "source": [
    "sales = pd.read_csv(wd + \"\\dataset\\\\sales_model.csv\")\n",
    "finance = pd.read_csv(wd + \"\\dataset\\\\finance_model.csv\")\n",
    "crm = pd.read_csv(wd + \"\\dataset\\\\crm_model.csv\")\n",
    "twitter = pd.read_csv(wd + \"\\dataset\\\\tw_data_clean.csv\")"
   ]
  },
  {
   "cell_type": "markdown",
   "metadata": {},
   "source": [
    "Import the datasets"
   ]
  },
  {
   "cell_type": "markdown",
   "metadata": {},
   "source": [
    "Inspect the datasets"
   ]
  },
  {
   "cell_type": "code",
   "execution_count": 3,
   "metadata": {},
   "outputs": [
    {
     "name": "stdout",
     "output_type": "stream",
     "text": [
      "(4153, 24)\n",
      "(4151, 12)\n",
      "(4148, 20)\n",
      "(4148, 8)\n"
     ]
    }
   ],
   "source": [
    "#to see details of a dataset uncomment some of the following lines:\n",
    "\n",
    "#sales.dtypes\n",
    "print(sales.shape) # output: (4200, 32)\n",
    "#sales.iloc[:,0:15].head(10)\n",
    "#sales.iloc[:,16:32].head(10)\n",
    "#finance.dtypes\n",
    "print(finance.shape) # output: (4200, 9) \n",
    "#finance.head(3)\n",
    "#crm.dtypes\n",
    "print(crm.shape) # output: (4200, 16)\n",
    "#crm.head(3)\n",
    "#twitter.dtypes\n",
    "#twitter.head(3)\n",
    "#twitter.shape # output: (12837, 2)\n",
    "print(twitter.shape)"
   ]
  },
  {
   "cell_type": "markdown",
   "metadata": {},
   "source": [
    "##### 4. Merge Datasets\n",
    "We clean up the ID to be able to merge the data. The twitter dataset has multiple texts per ID so we will merge this after text analytics."
   ]
  },
  {
   "cell_type": "markdown",
   "metadata": {},
   "source": [
    "The format of the IDs is as follows. The actual ID is hidden within. using regular expressions we extract the common IDs as ID2"
   ]
  },
  {
   "cell_type": "code",
   "execution_count": 4,
   "metadata": {},
   "outputs": [
    {
     "name": "stdout",
     "output_type": "stream",
     "text": [
      "CC1387A\n",
      "1389\n",
      "1000I\n",
      "CC1387A\n"
     ]
    }
   ],
   "source": [
    "print(sales.ID_SALES[0])\n",
    "print(finance.ID_FINANCE[0])\n",
    "print(crm.ID_CRM[0][1:])\n",
    "print(twitter.ID_SALES[0])\n",
    "\n",
    "#crm('ID_test') = crm['ID_CRM'].str[1:]"
   ]
  },
  {
   "cell_type": "markdown",
   "metadata": {},
   "source": [
    "Hidden IDs are *cursive*  <br/>\n",
    "\n",
    "HG-*449*-40686  <br/>\n",
    "*3124*-40201  <br/>\n",
    "LISTED-*1553*  <br/>\n",
    "HD-*668*-40614  <br/>"
   ]
  },
  {
   "cell_type": "code",
   "execution_count": 5,
   "metadata": {
    "scrolled": true
   },
   "outputs": [
    {
     "name": "stdout",
     "output_type": "stream",
     "text": [
      "         0\n",
      "0     1387\n",
      "1      139\n",
      "2     1600\n",
      "3     1701\n",
      "4     1773\n",
      "...    ...\n",
      "4148    60\n",
      "4149   809\n",
      "4150   925\n",
      "4151   928\n",
      "4152   960\n",
      "\n",
      "[4153 rows x 1 columns]\n",
      "         0\n",
      "0     1389\n",
      "1     3090\n",
      "2     3639\n",
      "3     4249\n",
      "4     1021\n",
      "...    ...\n",
      "4146   886\n",
      "4147   888\n",
      "4148   899\n",
      "4149   939\n",
      "4150   959\n",
      "\n",
      "[4151 rows x 1 columns]\n",
      "         0\n",
      "0     1000\n",
      "1     1001\n",
      "2     1002\n",
      "3     1011\n",
      "4     1013\n",
      "...    ...\n",
      "4143   484\n",
      "4144  4961\n",
      "4145   533\n",
      "4146   756\n",
      "4147   792\n",
      "\n",
      "[4148 rows x 1 columns]\n",
      "         0\n",
      "0     1387\n",
      "1      139\n",
      "2     1701\n",
      "3     1773\n",
      "4     1830\n",
      "...    ...\n",
      "4143    60\n",
      "4144   809\n",
      "4145   925\n",
      "4146   928\n",
      "4147   960\n",
      "\n",
      "[4148 rows x 1 columns]\n"
     ]
    }
   ],
   "source": [
    "print(sales.ID_SALES.str.extract(r'(\\d+)'))\n",
    "print(finance.ID_FINANCE.str.extract(r'(\\d+)'))\n",
    "print((crm.ID_CRM.str[1:5]).str.extract(r'(\\d+)'))\n",
    "print( twitter.ID_SALES.str.extract(r'(\\d+)'))"
   ]
  },
  {
   "cell_type": "code",
   "execution_count": 6,
   "metadata": {},
   "outputs": [
    {
     "data": {
      "text/plain": [
       "0       1387\n",
       "1        139\n",
       "2       1600\n",
       "3       1701\n",
       "4       1773\n",
       "        ... \n",
       "4148      60\n",
       "4149     809\n",
       "4150     925\n",
       "4151     928\n",
       "4152     960\n",
       "Name: ID, Length: 4153, dtype: object"
      ]
     },
     "execution_count": 6,
     "metadata": {},
     "output_type": "execute_result"
    }
   ],
   "source": [
    "sales['ID'] = ((sales.ID_SALES.str[1:]).str[:-1]).str.extract(r'(\\d+)')\n",
    "finance['ID'] = finance.ID_FINANCE.str.extract(r'(\\d+)')\n",
    "crm['ID'] = ((crm.ID_CRM.str[1:]).str[:-1]).str.extract(r'(\\d+)') #problem is 0 at last place\n",
    "twitter['ID'] = ((twitter.ID_SALES.str[1:]).str[:-1]).str.extract(r'(\\d+)')\n",
    "sales['ID']"
   ]
  },
  {
   "cell_type": "code",
   "execution_count": 19,
   "metadata": {},
   "outputs": [
    {
     "data": {
      "text/html": [
       "<div>\n",
       "<style scoped>\n",
       "    .dataframe tbody tr th:only-of-type {\n",
       "        vertical-align: middle;\n",
       "    }\n",
       "\n",
       "    .dataframe tbody tr th {\n",
       "        vertical-align: top;\n",
       "    }\n",
       "\n",
       "    .dataframe thead th {\n",
       "        text-align: right;\n",
       "    }\n",
       "</style>\n",
       "<table border=\"1\" class=\"dataframe\">\n",
       "  <thead>\n",
       "    <tr style=\"text-align: right;\">\n",
       "      <th></th>\n",
       "      <th>ID_SALES</th>\n",
       "      <th>Program_Code</th>\n",
       "      <th>From_Grade</th>\n",
       "      <th>To_Grade</th>\n",
       "      <th>Group_State</th>\n",
       "      <th>Days</th>\n",
       "      <th>Travel_Type</th>\n",
       "      <th>Departure_Date</th>\n",
       "      <th>Return_Date</th>\n",
       "      <th>Early_RPL</th>\n",
       "      <th>...</th>\n",
       "      <th>FPP</th>\n",
       "      <th>Total_Pax</th>\n",
       "      <th>DepartureMonth</th>\n",
       "      <th>GroupGradeTypeLow</th>\n",
       "      <th>GroupGradeTypeHigh</th>\n",
       "      <th>GroupGradeType</th>\n",
       "      <th>MajorProgramCode</th>\n",
       "      <th>FPP_to_School_enrollment</th>\n",
       "      <th>Retained</th>\n",
       "      <th>ID</th>\n",
       "    </tr>\n",
       "  </thead>\n",
       "  <tbody>\n",
       "    <tr>\n",
       "      <th>852</th>\n",
       "      <td>HD12110</td>\n",
       "      <td>HD</td>\n",
       "      <td>8.0</td>\n",
       "      <td>8.0</td>\n",
       "      <td>OH</td>\n",
       "      <td>15</td>\n",
       "      <td>A</td>\n",
       "      <td>06/01/2019</td>\n",
       "      <td>06/16/2019</td>\n",
       "      <td>04/07/2018</td>\n",
       "      <td>...</td>\n",
       "      <td>9</td>\n",
       "      <td>10</td>\n",
       "      <td>January</td>\n",
       "      <td>PK</td>\n",
       "      <td>Middle</td>\n",
       "      <td>PK-&gt;Middle</td>\n",
       "      <td>H</td>\n",
       "      <td>0,044507972383654</td>\n",
       "      <td>0</td>\n",
       "      <td>12110</td>\n",
       "    </tr>\n",
       "  </tbody>\n",
       "</table>\n",
       "<p>1 rows × 25 columns</p>\n",
       "</div>"
      ],
      "text/plain": [
       "    ID_SALES Program_Code  From_Grade  To_Grade Group_State  Days Travel_Type  \\\n",
       "852  HD12110           HD         8.0       8.0          OH    15           A   \n",
       "\n",
       "    Departure_Date Return_Date   Early_RPL  ... FPP  Total_Pax  \\\n",
       "852     06/01/2019  06/16/2019  04/07/2018  ...   9         10   \n",
       "\n",
       "     DepartureMonth GroupGradeTypeLow GroupGradeTypeHigh  GroupGradeType  \\\n",
       "852         January                PK             Middle      PK->Middle   \n",
       "\n",
       "     MajorProgramCode FPP_to_School_enrollment Retained     ID  \n",
       "852                 H        0,044507972383654        0  12110  \n",
       "\n",
       "[1 rows x 25 columns]"
      ]
     },
     "execution_count": 19,
     "metadata": {},
     "output_type": "execute_result"
    }
   ],
   "source": [
    "sales.loc[sales['ID'] == '12110']"
   ]
  },
  {
   "cell_type": "markdown",
   "metadata": {},
   "source": [
    "The new IDs are unique as should be. Only for the twitter IDs there are multiple texts per ID (number of unique values is smaller then the number of rows of the twitter dataset)."
   ]
  },
  {
   "cell_type": "code",
   "execution_count": 7,
   "metadata": {},
   "outputs": [
    {
     "name": "stdout",
     "output_type": "stream",
     "text": [
      "4153\n",
      "4151\n",
      "4148\n",
      "4148\n"
     ]
    }
   ],
   "source": [
    "print(sales.ID.nunique())\n",
    "print(finance.ID.nunique())\n",
    "print(crm.ID.nunique())\n",
    "print(twitter.ID.nunique())"
   ]
  },
  {
   "cell_type": "markdown",
   "metadata": {},
   "source": [
    "Now we merge the datasets on the new ID also with twitter sentiment analysis data file"
   ]
  },
  {
   "cell_type": "code",
   "execution_count": 8,
   "metadata": {},
   "outputs": [
    {
     "data": {
      "text/plain": [
       "0       1387\n",
       "1        139\n",
       "2       1701\n",
       "3       1773\n",
       "4       1830\n",
       "        ... \n",
       "4143      60\n",
       "4144     809\n",
       "4145     925\n",
       "4146     928\n",
       "4147     960\n",
       "Name: ID, Length: 4148, dtype: object"
      ]
     },
     "execution_count": 8,
     "metadata": {},
     "output_type": "execute_result"
    }
   ],
   "source": [
    "#merge1 = sales.merge(finance, on = 'ID', how = 'left')\n",
    "#merge3 = merge1.merge(crm, on = 'ID' , how = 'left')\n",
    "#merge3 = merge3.merge(twitter, on ='ID', how = 'left')\n",
    "#merge3.shape\n",
    "#merge3['ID']\n",
    "\n",
    "\n",
    "\n",
    "merge1 = sales.merge(finance, on = 'ID', how = 'inner')\n",
    "merge2 = merge1.merge(crm, on = 'ID' , how = 'inner')\n",
    "merge2 = merge2.merge(twitter, on ='ID', how = 'inner')\n",
    "merge2.shape\n",
    "merge2['ID']\n"
   ]
  },
  {
   "cell_type": "markdown",
   "metadata": {},
   "source": [
    "Resulting in the following dataset (after dropping the unneccesary IDs)"
   ]
  },
  {
   "cell_type": "code",
   "execution_count": 29,
   "metadata": {},
   "outputs": [
    {
     "data": {
      "text/plain": [
       "0       1387\n",
       "1        139\n",
       "2       1600\n",
       "3       1701\n",
       "4       1773\n",
       "        ... \n",
       "4148      60\n",
       "4149     809\n",
       "4150     925\n",
       "4151     928\n",
       "4152     960\n",
       "Name: ID, Length: 4153, dtype: object"
      ]
     },
     "execution_count": 29,
     "metadata": {},
     "output_type": "execute_result"
    }
   ],
   "source": []
  },
  {
   "cell_type": "code",
   "execution_count": 9,
   "metadata": {},
   "outputs": [
    {
     "data": {
      "text/plain": [
       "(4148, 60)"
      ]
     },
     "execution_count": 9,
     "metadata": {},
     "output_type": "execute_result"
    }
   ],
   "source": [
    "data_sel = merge2.drop(columns=['ID_SALES_x', 'ID_SALES_y', 'ID_CRM', 'ID_FINANCE','text'])\n",
    "\n",
    "data_sel.shape"
   ]
  },
  {
   "cell_type": "code",
   "execution_count": 10,
   "metadata": {},
   "outputs": [
    {
     "data": {
      "text/html": [
       "<div>\n",
       "<style scoped>\n",
       "    .dataframe tbody tr th:only-of-type {\n",
       "        vertical-align: middle;\n",
       "    }\n",
       "\n",
       "    .dataframe tbody tr th {\n",
       "        vertical-align: top;\n",
       "    }\n",
       "\n",
       "    .dataframe thead th {\n",
       "        text-align: right;\n",
       "    }\n",
       "</style>\n",
       "<table border=\"1\" class=\"dataframe\">\n",
       "  <thead>\n",
       "    <tr style=\"text-align: right;\">\n",
       "      <th></th>\n",
       "      <th>Program_Code</th>\n",
       "      <th>From_Grade</th>\n",
       "      <th>To_Grade</th>\n",
       "      <th>Group_State</th>\n",
       "      <th>Days</th>\n",
       "      <th>Travel_Type</th>\n",
       "      <th>Departure_Date</th>\n",
       "      <th>Return_Date</th>\n",
       "      <th>Early_RPL</th>\n",
       "      <th>Latest_RPL</th>\n",
       "      <th>...</th>\n",
       "      <th>SchoolGradeTypeLow</th>\n",
       "      <th>SchoolGradeTypeHigh</th>\n",
       "      <th>SchoolGradeType</th>\n",
       "      <th>SchoolSizeIndicator</th>\n",
       "      <th>polarity</th>\n",
       "      <th>subjectivity</th>\n",
       "      <th>neg</th>\n",
       "      <th>neu</th>\n",
       "      <th>pos</th>\n",
       "      <th>compound</th>\n",
       "    </tr>\n",
       "  </thead>\n",
       "  <tbody>\n",
       "    <tr>\n",
       "      <th>850</th>\n",
       "      <td>HD</td>\n",
       "      <td>8.0</td>\n",
       "      <td>8.0</td>\n",
       "      <td>OH</td>\n",
       "      <td>15</td>\n",
       "      <td>A</td>\n",
       "      <td>06/01/2019</td>\n",
       "      <td>06/16/2019</td>\n",
       "      <td>04/07/2018</td>\n",
       "      <td>04/10/2018</td>\n",
       "      <td>...</td>\n",
       "      <td>Middle</td>\n",
       "      <td>Middle</td>\n",
       "      <td>Middle-&gt;Middle</td>\n",
       "      <td>S</td>\n",
       "      <td>0.0</td>\n",
       "      <td>0.5</td>\n",
       "      <td>0.297</td>\n",
       "      <td>0.545</td>\n",
       "      <td>0.158</td>\n",
       "      <td>-0.2023</td>\n",
       "    </tr>\n",
       "  </tbody>\n",
       "</table>\n",
       "<p>1 rows × 60 columns</p>\n",
       "</div>"
      ],
      "text/plain": [
       "    Program_Code  From_Grade  To_Grade Group_State  Days Travel_Type  \\\n",
       "850           HD         8.0       8.0          OH    15           A   \n",
       "\n",
       "    Departure_Date Return_Date   Early_RPL  Latest_RPL  ...  \\\n",
       "850     06/01/2019  06/16/2019  04/07/2018  04/10/2018  ...   \n",
       "\n",
       "     SchoolGradeTypeLow  SchoolGradeTypeHigh SchoolGradeType  \\\n",
       "850              Middle               Middle  Middle->Middle   \n",
       "\n",
       "    SchoolSizeIndicator  polarity  subjectivity    neg    neu    pos compound  \n",
       "850                   S       0.0           0.5  0.297  0.545  0.158  -0.2023  \n",
       "\n",
       "[1 rows x 60 columns]"
      ]
     },
     "execution_count": 10,
     "metadata": {},
     "output_type": "execute_result"
    }
   ],
   "source": [
    "data_sel.loc[data_sel['ID'] == '1211']"
   ]
  },
  {
   "cell_type": "markdown",
   "metadata": {},
   "source": [
    "# Export of the merged dataset"
   ]
  },
  {
   "cell_type": "code",
   "execution_count": 11,
   "metadata": {},
   "outputs": [
    {
     "data": {
      "text/plain": [
       "Program_Code                       object\n",
       "From_Grade                        float64\n",
       "To_Grade                          float64\n",
       "Group_State                        object\n",
       "Days                                int64\n",
       "Travel_Type                        object\n",
       "Departure_Date                     object\n",
       "Return_Date                        object\n",
       "Early_RPL                          object\n",
       "Latest_RPL                         object\n",
       "Cancelled_Pax                       int64\n",
       "Total_Discount_Pax                  int64\n",
       "Initial_System_Date                object\n",
       "SPR_Product_Type                   object\n",
       "FPP                                 int64\n",
       "Total_Pax                           int64\n",
       "DepartureMonth                     object\n",
       "GroupGradeTypeLow                  object\n",
       "GroupGradeTypeHigh                 object\n",
       "GroupGradeType                     object\n",
       "MajorProgramCode                   object\n",
       "FPP_to_School_enrollment           object\n",
       "Retained                            int64\n",
       "ID                                 object\n",
       "Deposit_Date                       object\n",
       "Special_Pay                        object\n",
       "Tuition                             int64\n",
       "FRP_Active                          int64\n",
       "FRP_Cancelled                       int64\n",
       "FRP_Take_up_percent_               object\n",
       "EZ_Pay_Take_Up_Rate                object\n",
       "School_Sponsor                      int64\n",
       "SPR_Group_Revenue                   int64\n",
       "FPP_to_PAX                         object\n",
       "Num_of_Non_FPP_PAX                  int64\n",
       "Poverty_Code                       object\n",
       "Region                             object\n",
       "CRM_Segment                       float64\n",
       "School_Type                        object\n",
       "Parent_Meeting_Flag                 int64\n",
       "MDR_Low_Grade                      object\n",
       "MDR_High_Grade                    float64\n",
       "Total_School_Enrollment             int64\n",
       "Income_Level                       object\n",
       "SPR_New_Existing                    int64\n",
       "NumberOfMeetingswithParents         int64\n",
       "FirstMeeting                       object\n",
       "LastMeeting                        object\n",
       "DifferenceTraveltoFirstMeeting    float64\n",
       "DifferenceTraveltoLastMeeting     float64\n",
       "SchoolGradeTypeLow                 object\n",
       "SchoolGradeTypeHigh                object\n",
       "SchoolGradeType                    object\n",
       "SchoolSizeIndicator                object\n",
       "polarity                          float64\n",
       "subjectivity                      float64\n",
       "neg                               float64\n",
       "neu                               float64\n",
       "pos                               float64\n",
       "compound                          float64\n",
       "dtype: object"
      ]
     },
     "execution_count": 11,
     "metadata": {},
     "output_type": "execute_result"
    }
   ],
   "source": [
    "data_sel.to_csv(\"merge_model1.csv\", index = True)\n",
    "data_sel.dtypes"
   ]
  },
  {
   "cell_type": "markdown",
   "metadata": {},
   "source": [
    "### B. Data Cleaning"
   ]
  },
  {
   "cell_type": "markdown",
   "metadata": {},
   "source": [
    "We check the data for columns with missing values"
   ]
  },
  {
   "cell_type": "code",
   "execution_count": 58,
   "metadata": {
    "scrolled": true
   },
   "outputs": [
    {
     "data": {
      "text/plain": [
       "From_Grade                        float64\n",
       "To_Grade                          float64\n",
       "Early_RPL                          object\n",
       "Latest_RPL                         object\n",
       "Initial_System_Date                object\n",
       "FPP_to_School_enrollment           object\n",
       "Deposit_Date                       object\n",
       "Special_Pay                        object\n",
       "Tuition                           float64\n",
       "FRP_Active                        float64\n",
       "FRP_Cancelled                     float64\n",
       "FRP_Take_up_percent_               object\n",
       "EZ_Pay_Take_Up_Rate                object\n",
       "School_Sponsor                    float64\n",
       "SPR_Group_Revenue                 float64\n",
       "FPP_to_PAX                         object\n",
       "Num_of_Non_FPP_PAX                float64\n",
       "Poverty_Code                       object\n",
       "Region                             object\n",
       "CRM_Segment                       float64\n",
       "School_Type                        object\n",
       "Parent_Meeting_Flag               float64\n",
       "MDR_Low_Grade                      object\n",
       "MDR_High_Grade                    float64\n",
       "Total_School_Enrollment           float64\n",
       "Income_Level                       object\n",
       "SPR_New_Existing                  float64\n",
       "NumberOfMeetingswithParents       float64\n",
       "FirstMeeting                       object\n",
       "LastMeeting                        object\n",
       "DifferenceTraveltoFirstMeeting    float64\n",
       "DifferenceTraveltoLastMeeting     float64\n",
       "SchoolGradeTypeLow                 object\n",
       "SchoolGradeTypeHigh                object\n",
       "SchoolGradeType                    object\n",
       "SchoolSizeIndicator                object\n",
       "polarity                          float64\n",
       "subjectivity                      float64\n",
       "neg                               float64\n",
       "neu                               float64\n",
       "pos                               float64\n",
       "compound                          float64\n",
       "dtype: object"
      ]
     },
     "execution_count": 58,
     "metadata": {},
     "output_type": "execute_result"
    }
   ],
   "source": [
    "data_sel.loc[:,data_sel.isna().any() == True].dtypes\n",
    "#data_sel.to_csv('data_sel.csv')"
   ]
  },
  {
   "cell_type": "markdown",
   "metadata": {},
   "source": [
    "##### 1.Transform datatype"
   ]
  },
  {
   "cell_type": "code",
   "execution_count": 26,
   "metadata": {},
   "outputs": [
    {
     "name": "stdout",
     "output_type": "stream",
     "text": [
      "object\n"
     ]
    }
   ],
   "source": [
    "# Transform dates in date format\n",
    "data_sel[['Departure_Date',\n",
    "          'Return_Date',\n",
    "          \"Early_RPL\",\n",
    "          \"Latest_RPL\",\n",
    "          'Initial_System_Date',\n",
    "          'Deposit_Date',\n",
    "           'FirstMeeting',\n",
    "           'LastMeeting']] = data_sel[['Departure_Date',\n",
    "          'Return_Date',\n",
    "          \"Early_RPL\",\n",
    "          \"Latest_RPL\",\n",
    "          'Initial_System_Date',\n",
    "          'Deposit_Date',\n",
    "           'FirstMeeting',\n",
    "           'LastMeeting']].apply(pd.to_datetime)\n",
    "print(str(data_sel['FPP_to_School_enrollment'].dtype))\n",
    "if(str(data_sel['FPP_to_PAX'].dtype)== 'object'):\n",
    "    data_sel['FPP_to_PAX'] = data_sel['FPP_to_PAX'].fillna(value='0')\n",
    "    data_sel['FPP_to_PAX'] = data_sel['FPP_to_PAX'].apply(lambda x: str(x.replace(',','.'))).astype(float) \n",
    "if(str(data_sel['FPP_to_School_enrollment'].dtype)== 'object'):\n",
    "    data_sel['FPP_to_School_enrollment'] = data_sel['FPP_to_School_enrollment'].fillna(value='0')\n",
    "    data_sel['FPP_to_School_enrollment'] = data_sel['FPP_to_School_enrollment'].apply(lambda x: str(x.replace(',','.'))).astype(float) \n",
    "if(str(data_sel['FRP_Take_up_percent_'].dtype)== 'object'):\n",
    "    data_sel['FRP_Take_up_percent_'] = data_sel['FRP_Take_up_percent_'].fillna(value='0')\n",
    "    data_sel['FRP_Take_up_percent_'] = data_sel['FRP_Take_up_percent_'].apply(lambda x: str(x.replace(',','.'))).astype(float) \n",
    "if(str(data_sel['EZ_Pay_Take_Up_Rate'].dtype)== 'object'):\n",
    "    data_sel['EZ_Pay_Take_Up_Rate'] = data_sel['EZ_Pay_Take_Up_Rate'].fillna(value='0')\n",
    "    data_sel['EZ_Pay_Take_Up_Rate'] = data_sel['EZ_Pay_Take_Up_Rate'].apply(lambda x: str(x.replace(',','.'))).astype(float) \n",
    "\n",
    "#data_sel.to_csv('data_sel.csv')"
   ]
  },
  {
   "cell_type": "markdown",
   "metadata": {},
   "source": [
    "##### 1. Method\n",
    "We check the amount of missing values, if the amount of missing values is small, we replace them with a mean/median/most frequent value. If the amount of missing values is large we drop the column."
   ]
  },
  {
   "cell_type": "code",
   "execution_count": 27,
   "metadata": {},
   "outputs": [
    {
     "name": "stdout",
     "output_type": "stream",
     "text": [
      "From_Grade\n",
      "6.0     741\n",
      "7.0     699\n",
      "8.0     645\n",
      "9.0     630\n",
      "10.0    427\n",
      "5.0     329\n",
      "NaN     203\n",
      "4.0     161\n",
      "3.0      79\n",
      "2.0      53\n",
      "11.0     41\n",
      "12.0     31\n",
      "13.0     11\n",
      "1.0       3\n",
      "14.0      3\n",
      "Name: From_Grade, dtype: int64\n",
      "To_Grade\n",
      "7.0     684\n",
      "10.0    653\n",
      "8.0     651\n",
      "6.0     649\n",
      "9.0     629\n",
      "NaN     246\n",
      "5.0     105\n",
      "4.0      90\n",
      "11.0     86\n",
      "12.0     73\n",
      "3.0      62\n",
      "13.0     48\n",
      "2.0      44\n",
      "14.0     34\n",
      "1.0       2\n",
      "Name: To_Grade, dtype: int64\n",
      "Early_RPL\n",
      "NaT           1116\n",
      "2018-03-12      42\n",
      "2018-04-27      35\n",
      "2018-03-07      35\n",
      "2018-04-30      34\n",
      "              ... \n",
      "2017-10-23       1\n",
      "2018-10-23       1\n",
      "2018-08-23       1\n",
      "2017-11-08       1\n",
      "2018-10-20       1\n",
      "Name: Early_RPL, Length: 236, dtype: int64\n",
      "Latest_RPL\n",
      "2018-08-31    82\n",
      "2018-08-28    81\n",
      "2018-09-03    78\n",
      "2018-08-25    76\n",
      "2018-09-06    75\n",
      "              ..\n",
      "2019-01-16     1\n",
      "2018-03-22     1\n",
      "2018-10-29     1\n",
      "2018-05-24     1\n",
      "2018-06-13     1\n",
      "Name: Latest_RPL, Length: 344, dtype: int64\n",
      "Initial_System_Date\n",
      "2018-02-25    38\n",
      "2018-04-03    33\n",
      "2018-02-14    31\n",
      "2018-03-14    31\n",
      "2018-04-19    31\n",
      "              ..\n",
      "2017-10-22     1\n",
      "2017-12-22     1\n",
      "2017-09-19     1\n",
      "2018-12-31     1\n",
      "2018-10-14     1\n",
      "Name: Initial_System_Date, Length: 439, dtype: int64\n",
      "Special_Pay\n",
      "NaN    3261\n",
      "FR      509\n",
      "SA      161\n",
      "CP      120\n",
      "0         5\n",
      "Name: Special_Pay, dtype: int64\n",
      "CRM_Segment\n",
      "5.0     1393\n",
      "10.0     808\n",
      "9.0      422\n",
      "4.0      397\n",
      "11.0     395\n",
      "6.0      161\n",
      "8.0      132\n",
      "1.0      129\n",
      "7.0      114\n",
      "2.0       83\n",
      "3.0       12\n",
      "12.0       9\n",
      "NaN        1\n",
      "Name: CRM_Segment, dtype: int64\n",
      "MDR_High_Grade\n",
      "8.0     2869\n",
      "12.0     626\n",
      "6.0      190\n",
      "5.0      176\n",
      "9.0       94\n",
      "7.0       44\n",
      "NaN       27\n",
      "4.0       11\n",
      "11.0       6\n",
      "10.0       5\n",
      "1.0        4\n",
      "3.0        2\n",
      "2.0        2\n",
      "Name: MDR_High_Grade, dtype: int64\n",
      "FirstMeeting\n",
      "NaT           557\n",
      "2018-09-11     71\n",
      "2018-09-15     67\n",
      "2018-09-21     65\n",
      "2018-09-22     62\n",
      "             ... \n",
      "2018-07-29      1\n",
      "2017-08-24      1\n",
      "2018-01-12      1\n",
      "2018-08-05      1\n",
      "2018-12-12      1\n",
      "Name: FirstMeeting, Length: 311, dtype: int64\n",
      "LastMeeting\n",
      "NaT           557\n",
      "2018-09-08     88\n",
      "2018-09-18     85\n",
      "2018-09-13     83\n",
      "2018-09-16     81\n",
      "             ... \n",
      "2019-04-21      1\n",
      "2018-05-29      1\n",
      "2019-02-12      1\n",
      "2018-06-09      1\n",
      "2018-04-06      1\n",
      "Name: LastMeeting, Length: 246, dtype: int64\n",
      "DifferenceTraveltoFirstMeeting\n",
      " NaN      557\n",
      " 260.0     37\n",
      " 255.0     35\n",
      " 258.0     34\n",
      " 250.0     34\n",
      "         ... \n",
      " 752.0      1\n",
      " 18.0       1\n",
      "-196.0      1\n",
      " 654.0      1\n",
      " 445.0      1\n",
      "Name: DifferenceTraveltoFirstMeeting, Length: 385, dtype: int64\n",
      "DifferenceTraveltoLastMeeting\n",
      "NaN      557\n",
      "267.0     50\n",
      "254.0     43\n",
      "249.0     41\n",
      "266.0     39\n",
      "        ... \n",
      "323.0      1\n",
      "75.0       1\n",
      "385.0      1\n",
      "310.0      1\n",
      "389.0      1\n",
      "Name: DifferenceTraveltoLastMeeting, Length: 300, dtype: int64\n",
      "SchoolSizeIndicator\n",
      "S-M    1045\n",
      "L      1041\n",
      "M-L    1022\n",
      "S       878\n",
      "NaN      70\n",
      "Name: SchoolSizeIndicator, dtype: int64\n"
     ]
    }
   ],
   "source": [
    "for i in data_sel.loc[:,data_sel.isna().any() == True].columns:\n",
    "    print(i)\n",
    "    print( data_sel[i].value_counts(dropna = False) )"
   ]
  },
  {
   "cell_type": "markdown",
   "metadata": {},
   "source": [
    "We checked the histogram to see if it is ok to take the mean/median"
   ]
  },
  {
   "cell_type": "code",
   "execution_count": 59,
   "metadata": {},
   "outputs": [
    {
     "data": {
      "text/plain": [
       "array([[<matplotlib.axes._subplots.AxesSubplot object at 0x000001F0E59CC9C8>,\n",
       "        <matplotlib.axes._subplots.AxesSubplot object at 0x000001F0E5923E88>,\n",
       "        <matplotlib.axes._subplots.AxesSubplot object at 0x000001F0E5902248>,\n",
       "        <matplotlib.axes._subplots.AxesSubplot object at 0x000001F0E5A7AF08>,\n",
       "        <matplotlib.axes._subplots.AxesSubplot object at 0x000001F0E5B77888>],\n",
       "       [<matplotlib.axes._subplots.AxesSubplot object at 0x000001F0E83DD548>,\n",
       "        <matplotlib.axes._subplots.AxesSubplot object at 0x000001F0E84165C8>,\n",
       "        <matplotlib.axes._subplots.AxesSubplot object at 0x000001F0E844E708>,\n",
       "        <matplotlib.axes._subplots.AxesSubplot object at 0x000001F0E845A308>,\n",
       "        <matplotlib.axes._subplots.AxesSubplot object at 0x000001F0E84924C8>],\n",
       "       [<matplotlib.axes._subplots.AxesSubplot object at 0x000001F0E84F7A48>,\n",
       "        <matplotlib.axes._subplots.AxesSubplot object at 0x000001F0E8530AC8>,\n",
       "        <matplotlib.axes._subplots.AxesSubplot object at 0x000001F0E8567BC8>,\n",
       "        <matplotlib.axes._subplots.AxesSubplot object at 0x000001F0E85A0D08>,\n",
       "        <matplotlib.axes._subplots.AxesSubplot object at 0x000001F0E85D8E08>],\n",
       "       [<matplotlib.axes._subplots.AxesSubplot object at 0x000001F0E860FF08>,\n",
       "        <matplotlib.axes._subplots.AxesSubplot object at 0x000001F0E864B048>,\n",
       "        <matplotlib.axes._subplots.AxesSubplot object at 0x000001F0E8683188>,\n",
       "        <matplotlib.axes._subplots.AxesSubplot object at 0x000001F0E86BD288>,\n",
       "        <matplotlib.axes._subplots.AxesSubplot object at 0x000001F0E86F4388>],\n",
       "       [<matplotlib.axes._subplots.AxesSubplot object at 0x000001F0E872B4C8>,\n",
       "        <matplotlib.axes._subplots.AxesSubplot object at 0x000001F0E8765548>,\n",
       "        <matplotlib.axes._subplots.AxesSubplot object at 0x000001F0E87A1E48>,\n",
       "        <matplotlib.axes._subplots.AxesSubplot object at 0x000001F0E87D5848>,\n",
       "        <matplotlib.axes._subplots.AxesSubplot object at 0x000001F0E880DA08>]],\n",
       "      dtype=object)"
      ]
     },
     "execution_count": 59,
     "metadata": {},
     "output_type": "execute_result"
    },
    {
     "data": {
      "image/png": "[encoded data removed]",
      "text/plain": [
       "<Figure size 432x288 with 25 Axes>"
      ]
     },
     "metadata": {
      "needs_background": "light"
     },
     "output_type": "display_data"
    }
   ],
   "source": [
    "data_sel.loc[:,data_sel.isna().any() == True].hist()"
   ]
  },
  {
   "cell_type": "code",
   "execution_count": 39,
   "metadata": {},
   "outputs": [
    {
     "data": {
      "text/plain": [
       "count    4050.000000\n",
       "mean        6.911605\n",
       "std         2.801772\n",
       "min         1.000000\n",
       "25%         5.000000\n",
       "50%         6.000000\n",
       "75%        10.000000\n",
       "max        12.000000\n",
       "Name: CRM_Segment, dtype: float64"
      ]
     },
     "execution_count": 39,
     "metadata": {},
     "output_type": "execute_result"
    }
   ],
   "source": [
    "data_sel['CRM_Segment'].describe()"
   ]
  },
  {
   "cell_type": "code",
   "execution_count": 41,
   "metadata": {},
   "outputs": [],
   "source": [
    "data_sel['From_Grade'] = data_sel['From_Grade'].fillna(data_sel['From_Grade'].median())\n",
    "data_sel['To_Grade'] = data_sel['To_Grade'].fillna(data_sel['To_Grade'].median())\n",
    "data_sel['SchoolSizeIndicator'] = data_sel['SchoolSizeIndicator'].fillna(data_sel['SchoolSizeIndicator'].mode()[0])\n",
    "data_sel[\"DifferenceTraveltoFirstMeeting\"] = data_sel[\"DifferenceTraveltoFirstMeeting\"].fillna(data_sel[\"DifferenceTraveltoFirstMeeting\"].median())\n",
    "data_sel[\"DifferenceTraveltoLastMeeting\"] = data_sel[\"DifferenceTraveltoLastMeeting\"].fillna(data_sel[\"DifferenceTraveltoLastMeeting\"].median())\n",
    "\n",
    "data_sel['CRM_Segment'] = data_sel['CRM_Segment'].fillna(data_sel['CRM_Segment'].mode()[0])\n",
    "data_sel['MDR_High_Grade'] = data_sel['MDR_High_Grade'].fillna(data_sel['MDR_High_Grade'].mode()[0])\n"
   ]
  },
  {
   "cell_type": "markdown",
   "metadata": {},
   "source": [
    "The following columns were threated differently:"
   ]
  },
  {
   "cell_type": "markdown",
   "metadata": {},
   "source": [
    "We drop the column Special_Pay (huge amount of missing values), and the unneccesary date columns with a lot of missing or not consistent values"
   ]
  },
  {
   "cell_type": "code",
   "execution_count": 43,
   "metadata": {},
   "outputs": [
    {
     "ename": "KeyError",
     "evalue": "\"['Special_Pay'] not found in axis\"",
     "output_type": "error",
     "traceback": [
      "\u001b[1;31m---------------------------------------------------------------------------\u001b[0m",
      "\u001b[1;31mKeyError\u001b[0m                                  Traceback (most recent call last)",
      "\u001b[1;32m<ipython-input-43-7e95be8c34b2>\u001b[0m in \u001b[0;36m<module>\u001b[1;34m\u001b[0m\n\u001b[1;32m----> 1\u001b[1;33m \u001b[0mdata_sel\u001b[0m \u001b[1;33m=\u001b[0m \u001b[0mdata_sel\u001b[0m\u001b[1;33m.\u001b[0m\u001b[0mdrop\u001b[0m\u001b[1;33m(\u001b[0m\u001b[0mcolumns\u001b[0m\u001b[1;33m=\u001b[0m\u001b[1;33m[\u001b[0m\u001b[1;34m'Special_Pay'\u001b[0m\u001b[1;33m]\u001b[0m\u001b[1;33m)\u001b[0m\u001b[1;33m\u001b[0m\u001b[1;33m\u001b[0m\u001b[0m\n\u001b[0m\u001b[0;32m      2\u001b[0m \u001b[0mdata_sel\u001b[0m \u001b[1;33m=\u001b[0m \u001b[0mdata_sel\u001b[0m\u001b[1;33m.\u001b[0m\u001b[0mdrop\u001b[0m\u001b[1;33m(\u001b[0m\u001b[0mcolumns\u001b[0m \u001b[1;33m=\u001b[0m \u001b[1;33m[\u001b[0m\u001b[1;34m'FirstMeeting'\u001b[0m\u001b[1;33m,\u001b[0m \u001b[1;34m'LastMeeting'\u001b[0m\u001b[1;33m,\u001b[0m \u001b[1;34m'Latest_RPL'\u001b[0m\u001b[1;33m,\u001b[0m \u001b[1;34m'Early_RPL'\u001b[0m\u001b[1;33m,\u001b[0m \u001b[1;34m'Initial_System_Date'\u001b[0m\u001b[1;33m,\u001b[0m\u001b[1;34m'DepartureMonth'\u001b[0m\u001b[1;33m,\u001b[0m\u001b[1;34m'GroupGradeTypeLow'\u001b[0m\u001b[1;33m,\u001b[0m\u001b[1;34m'GroupGradeType'\u001b[0m\u001b[1;33m,\u001b[0m\u001b[1;34m'SchoolGradeType'\u001b[0m\u001b[1;33m]\u001b[0m\u001b[1;33m)\u001b[0m\u001b[1;33m\u001b[0m\u001b[1;33m\u001b[0m\u001b[0m\n\u001b[0;32m      3\u001b[0m \u001b[0mdata_sel\u001b[0m \u001b[1;33m=\u001b[0m \u001b[0mdata_sel\u001b[0m\u001b[1;33m[\u001b[0m\u001b[0mdata_sel\u001b[0m\u001b[1;33m.\u001b[0m\u001b[0mDifferenceTraveltoLastMeeting\u001b[0m\u001b[1;33m>=\u001b[0m\u001b[1;36m0\u001b[0m\u001b[1;33m]\u001b[0m\u001b[1;33m\u001b[0m\u001b[1;33m\u001b[0m\u001b[0m\n\u001b[0;32m      4\u001b[0m \u001b[0mdata_sel\u001b[0m \u001b[1;33m=\u001b[0m \u001b[0mdata_sel\u001b[0m\u001b[1;33m[\u001b[0m\u001b[0mdata_sel\u001b[0m\u001b[1;33m.\u001b[0m\u001b[0mDifferenceTraveltoLastMeeting\u001b[0m\u001b[1;33m>=\u001b[0m\u001b[1;36m0\u001b[0m\u001b[1;33m]\u001b[0m\u001b[1;33m\u001b[0m\u001b[1;33m\u001b[0m\u001b[0m\n",
      "\u001b[1;32mC:\\ProgramData\\Anaconda3\\lib\\site-packages\\pandas\\core\\frame.py\u001b[0m in \u001b[0;36mdrop\u001b[1;34m(self, labels, axis, index, columns, level, inplace, errors)\u001b[0m\n\u001b[0;32m   3995\u001b[0m             \u001b[0mlevel\u001b[0m\u001b[1;33m=\u001b[0m\u001b[0mlevel\u001b[0m\u001b[1;33m,\u001b[0m\u001b[1;33m\u001b[0m\u001b[1;33m\u001b[0m\u001b[0m\n\u001b[0;32m   3996\u001b[0m             \u001b[0minplace\u001b[0m\u001b[1;33m=\u001b[0m\u001b[0minplace\u001b[0m\u001b[1;33m,\u001b[0m\u001b[1;33m\u001b[0m\u001b[1;33m\u001b[0m\u001b[0m\n\u001b[1;32m-> 3997\u001b[1;33m             \u001b[0merrors\u001b[0m\u001b[1;33m=\u001b[0m\u001b[0merrors\u001b[0m\u001b[1;33m,\u001b[0m\u001b[1;33m\u001b[0m\u001b[1;33m\u001b[0m\u001b[0m\n\u001b[0m\u001b[0;32m   3998\u001b[0m         )\n\u001b[0;32m   3999\u001b[0m \u001b[1;33m\u001b[0m\u001b[0m\n",
      "\u001b[1;32mC:\\ProgramData\\Anaconda3\\lib\\site-packages\\pandas\\core\\generic.py\u001b[0m in \u001b[0;36mdrop\u001b[1;34m(self, labels, axis, index, columns, level, inplace, errors)\u001b[0m\n\u001b[0;32m   3934\u001b[0m         \u001b[1;32mfor\u001b[0m \u001b[0maxis\u001b[0m\u001b[1;33m,\u001b[0m \u001b[0mlabels\u001b[0m \u001b[1;32min\u001b[0m \u001b[0maxes\u001b[0m\u001b[1;33m.\u001b[0m\u001b[0mitems\u001b[0m\u001b[1;33m(\u001b[0m\u001b[1;33m)\u001b[0m\u001b[1;33m:\u001b[0m\u001b[1;33m\u001b[0m\u001b[1;33m\u001b[0m\u001b[0m\n\u001b[0;32m   3935\u001b[0m             \u001b[1;32mif\u001b[0m \u001b[0mlabels\u001b[0m \u001b[1;32mis\u001b[0m \u001b[1;32mnot\u001b[0m \u001b[1;32mNone\u001b[0m\u001b[1;33m:\u001b[0m\u001b[1;33m\u001b[0m\u001b[1;33m\u001b[0m\u001b[0m\n\u001b[1;32m-> 3936\u001b[1;33m                 \u001b[0mobj\u001b[0m \u001b[1;33m=\u001b[0m \u001b[0mobj\u001b[0m\u001b[1;33m.\u001b[0m\u001b[0m_drop_axis\u001b[0m\u001b[1;33m(\u001b[0m\u001b[0mlabels\u001b[0m\u001b[1;33m,\u001b[0m \u001b[0maxis\u001b[0m\u001b[1;33m,\u001b[0m \u001b[0mlevel\u001b[0m\u001b[1;33m=\u001b[0m\u001b[0mlevel\u001b[0m\u001b[1;33m,\u001b[0m \u001b[0merrors\u001b[0m\u001b[1;33m=\u001b[0m\u001b[0merrors\u001b[0m\u001b[1;33m)\u001b[0m\u001b[1;33m\u001b[0m\u001b[1;33m\u001b[0m\u001b[0m\n\u001b[0m\u001b[0;32m   3937\u001b[0m \u001b[1;33m\u001b[0m\u001b[0m\n\u001b[0;32m   3938\u001b[0m         \u001b[1;32mif\u001b[0m \u001b[0minplace\u001b[0m\u001b[1;33m:\u001b[0m\u001b[1;33m\u001b[0m\u001b[1;33m\u001b[0m\u001b[0m\n",
      "\u001b[1;32mC:\\ProgramData\\Anaconda3\\lib\\site-packages\\pandas\\core\\generic.py\u001b[0m in \u001b[0;36m_drop_axis\u001b[1;34m(self, labels, axis, level, errors)\u001b[0m\n\u001b[0;32m   3968\u001b[0m                 \u001b[0mnew_axis\u001b[0m \u001b[1;33m=\u001b[0m \u001b[0maxis\u001b[0m\u001b[1;33m.\u001b[0m\u001b[0mdrop\u001b[0m\u001b[1;33m(\u001b[0m\u001b[0mlabels\u001b[0m\u001b[1;33m,\u001b[0m \u001b[0mlevel\u001b[0m\u001b[1;33m=\u001b[0m\u001b[0mlevel\u001b[0m\u001b[1;33m,\u001b[0m \u001b[0merrors\u001b[0m\u001b[1;33m=\u001b[0m\u001b[0merrors\u001b[0m\u001b[1;33m)\u001b[0m\u001b[1;33m\u001b[0m\u001b[1;33m\u001b[0m\u001b[0m\n\u001b[0;32m   3969\u001b[0m             \u001b[1;32melse\u001b[0m\u001b[1;33m:\u001b[0m\u001b[1;33m\u001b[0m\u001b[1;33m\u001b[0m\u001b[0m\n\u001b[1;32m-> 3970\u001b[1;33m                 \u001b[0mnew_axis\u001b[0m \u001b[1;33m=\u001b[0m \u001b[0maxis\u001b[0m\u001b[1;33m.\u001b[0m\u001b[0mdrop\u001b[0m\u001b[1;33m(\u001b[0m\u001b[0mlabels\u001b[0m\u001b[1;33m,\u001b[0m \u001b[0merrors\u001b[0m\u001b[1;33m=\u001b[0m\u001b[0merrors\u001b[0m\u001b[1;33m)\u001b[0m\u001b[1;33m\u001b[0m\u001b[1;33m\u001b[0m\u001b[0m\n\u001b[0m\u001b[0;32m   3971\u001b[0m             \u001b[0mresult\u001b[0m \u001b[1;33m=\u001b[0m \u001b[0mself\u001b[0m\u001b[1;33m.\u001b[0m\u001b[0mreindex\u001b[0m\u001b[1;33m(\u001b[0m\u001b[1;33m**\u001b[0m\u001b[1;33m{\u001b[0m\u001b[0maxis_name\u001b[0m\u001b[1;33m:\u001b[0m \u001b[0mnew_axis\u001b[0m\u001b[1;33m}\u001b[0m\u001b[1;33m)\u001b[0m\u001b[1;33m\u001b[0m\u001b[1;33m\u001b[0m\u001b[0m\n\u001b[0;32m   3972\u001b[0m \u001b[1;33m\u001b[0m\u001b[0m\n",
      "\u001b[1;32mC:\\ProgramData\\Anaconda3\\lib\\site-packages\\pandas\\core\\indexes\\base.py\u001b[0m in \u001b[0;36mdrop\u001b[1;34m(self, labels, errors)\u001b[0m\n\u001b[0;32m   5016\u001b[0m         \u001b[1;32mif\u001b[0m \u001b[0mmask\u001b[0m\u001b[1;33m.\u001b[0m\u001b[0many\u001b[0m\u001b[1;33m(\u001b[0m\u001b[1;33m)\u001b[0m\u001b[1;33m:\u001b[0m\u001b[1;33m\u001b[0m\u001b[1;33m\u001b[0m\u001b[0m\n\u001b[0;32m   5017\u001b[0m             \u001b[1;32mif\u001b[0m \u001b[0merrors\u001b[0m \u001b[1;33m!=\u001b[0m \u001b[1;34m\"ignore\"\u001b[0m\u001b[1;33m:\u001b[0m\u001b[1;33m\u001b[0m\u001b[1;33m\u001b[0m\u001b[0m\n\u001b[1;32m-> 5018\u001b[1;33m                 \u001b[1;32mraise\u001b[0m \u001b[0mKeyError\u001b[0m\u001b[1;33m(\u001b[0m\u001b[1;34mf\"{labels[mask]} not found in axis\"\u001b[0m\u001b[1;33m)\u001b[0m\u001b[1;33m\u001b[0m\u001b[1;33m\u001b[0m\u001b[0m\n\u001b[0m\u001b[0;32m   5019\u001b[0m             \u001b[0mindexer\u001b[0m \u001b[1;33m=\u001b[0m \u001b[0mindexer\u001b[0m\u001b[1;33m[\u001b[0m\u001b[1;33m~\u001b[0m\u001b[0mmask\u001b[0m\u001b[1;33m]\u001b[0m\u001b[1;33m\u001b[0m\u001b[1;33m\u001b[0m\u001b[0m\n\u001b[0;32m   5020\u001b[0m         \u001b[1;32mreturn\u001b[0m \u001b[0mself\u001b[0m\u001b[1;33m.\u001b[0m\u001b[0mdelete\u001b[0m\u001b[1;33m(\u001b[0m\u001b[0mindexer\u001b[0m\u001b[1;33m)\u001b[0m\u001b[1;33m\u001b[0m\u001b[1;33m\u001b[0m\u001b[0m\n",
      "\u001b[1;31mKeyError\u001b[0m: \"['Special_Pay'] not found in axis\""
     ]
    }
   ],
   "source": [
    "data_sel = data_sel.drop(columns=['Special_Pay'])\n",
    "data_sel = data_sel.drop(columns = ['FirstMeeting', 'LastMeeting', 'Latest_RPL', 'Early_RPL', 'Initial_System_Date','DepartureMonth','GroupGradeTypeLow','GroupGradeType','SchoolGradeType'])\n",
    "data_sel = data_sel[data_sel.DifferenceTraveltoLastMeeting>=0]\n",
    "data_sel = data_sel[data_sel.DifferenceTraveltoLastMeeting>=0]"
   ]
  },
  {
   "cell_type": "markdown",
   "metadata": {},
   "source": [
    "##### 2.Now we have the cleaned data set without missing values "
   ]
  },
  {
   "cell_type": "code",
   "execution_count": 44,
   "metadata": {},
   "outputs": [],
   "source": [
    "data_clean = data_sel.copy()"
   ]
  },
  {
   "cell_type": "code",
   "execution_count": 45,
   "metadata": {},
   "outputs": [
    {
     "name": "stdout",
     "output_type": "stream",
     "text": [
      "(4050, 50)\n"
     ]
    },
    {
     "data": {
      "text/plain": [
       "Program_Code                              object\n",
       "From_Grade                               float64\n",
       "To_Grade                                 float64\n",
       "Group_State                               object\n",
       "Days                                       int64\n",
       "Travel_Type                               object\n",
       "Departure_Date                    datetime64[ns]\n",
       "Return_Date                       datetime64[ns]\n",
       "Cancelled_Pax                              int64\n",
       "Total_Discount_Pax                         int64\n",
       "SPR_Product_Type                          object\n",
       "FPP                                        int64\n",
       "Total_Pax                                  int64\n",
       "GroupGradeTypeHigh                        object\n",
       "MajorProgramCode                          object\n",
       "FPP_to_School_enrollment                 float64\n",
       "Retained                                   int64\n",
       "ID                                        object\n",
       "Deposit_Date                      datetime64[ns]\n",
       "Tuition                                    int64\n",
       "FRP_Active                                 int64\n",
       "FRP_Cancelled                              int64\n",
       "FRP_Take_up_percent_                     float64\n",
       "EZ_Pay_Take_Up_Rate                      float64\n",
       "School_Sponsor                             int64\n",
       "SPR_Group_Revenue                          int64\n",
       "FPP_to_PAX                               float64\n",
       "Num_of_Non_FPP_PAX                         int64\n",
       "Poverty_Code                              object\n",
       "Region                                    object\n",
       "CRM_Segment                              float64\n",
       "School_Type                               object\n",
       "Parent_Meeting_Flag                        int64\n",
       "MDR_Low_Grade                             object\n",
       "MDR_High_Grade                           float64\n",
       "Total_School_Enrollment                    int64\n",
       "Income_Level                              object\n",
       "SPR_New_Existing                           int64\n",
       "NumberOfMeetingswithParents                int64\n",
       "DifferenceTraveltoFirstMeeting           float64\n",
       "DifferenceTraveltoLastMeeting            float64\n",
       "SchoolGradeTypeLow                        object\n",
       "SchoolGradeTypeHigh                       object\n",
       "SchoolSizeIndicator                       object\n",
       "polarity                                 float64\n",
       "subjectivity                             float64\n",
       "neg                                      float64\n",
       "neu                                      float64\n",
       "pos                                      float64\n",
       "compound                                 float64\n",
       "dtype: object"
      ]
     },
     "execution_count": 45,
     "metadata": {},
     "output_type": "execute_result"
    }
   ],
   "source": [
    "print(data_clean.shape)\n",
    "\n",
    "data_clean.dtypes"
   ]
  },
  {
   "cell_type": "code",
   "execution_count": 46,
   "metadata": {},
   "outputs": [
    {
     "data": {
      "text/plain": [
       "Program_Code                      False\n",
       "From_Grade                        False\n",
       "To_Grade                          False\n",
       "Group_State                       False\n",
       "Days                              False\n",
       "Travel_Type                       False\n",
       "Departure_Date                    False\n",
       "Return_Date                       False\n",
       "Cancelled_Pax                     False\n",
       "Total_Discount_Pax                False\n",
       "SPR_Product_Type                  False\n",
       "FPP                               False\n",
       "Total_Pax                         False\n",
       "GroupGradeTypeHigh                False\n",
       "MajorProgramCode                  False\n",
       "FPP_to_School_enrollment          False\n",
       "Retained                          False\n",
       "ID                                False\n",
       "Deposit_Date                      False\n",
       "Tuition                           False\n",
       "FRP_Active                        False\n",
       "FRP_Cancelled                     False\n",
       "FRP_Take_up_percent_              False\n",
       "EZ_Pay_Take_Up_Rate               False\n",
       "School_Sponsor                    False\n",
       "SPR_Group_Revenue                 False\n",
       "FPP_to_PAX                        False\n",
       "Num_of_Non_FPP_PAX                False\n",
       "Poverty_Code                      False\n",
       "Region                            False\n",
       "CRM_Segment                       False\n",
       "School_Type                       False\n",
       "Parent_Meeting_Flag               False\n",
       "MDR_Low_Grade                     False\n",
       "MDR_High_Grade                    False\n",
       "Total_School_Enrollment           False\n",
       "Income_Level                      False\n",
       "SPR_New_Existing                  False\n",
       "NumberOfMeetingswithParents       False\n",
       "DifferenceTraveltoFirstMeeting    False\n",
       "DifferenceTraveltoLastMeeting     False\n",
       "SchoolGradeTypeLow                False\n",
       "SchoolGradeTypeHigh               False\n",
       "SchoolSizeIndicator               False\n",
       "polarity                          False\n",
       "subjectivity                      False\n",
       "neg                               False\n",
       "neu                               False\n",
       "pos                               False\n",
       "compound                          False\n",
       "dtype: bool"
      ]
     },
     "execution_count": 46,
     "metadata": {},
     "output_type": "execute_result"
    }
   ],
   "source": [
    "data_clean.isna().any()"
   ]
  },
  {
   "cell_type": "code",
   "execution_count": 47,
   "metadata": {},
   "outputs": [],
   "source": [
    "#type(data_clean)\n",
    "data_clean.to_csv(\"clean_model1.csv\", index = True)"
   ]
  },
  {
   "cell_type": "markdown",
   "metadata": {},
   "source": [
    "##### 3. categories orthonormalization\n",
    "Categories must be translated into orthonormal features"
   ]
  },
  {
   "cell_type": "code",
   "execution_count": 72,
   "metadata": {},
   "outputs": [
    {
     "data": {
      "text/plain": [
       "From_Grade                    float64\n",
       "To_Grade                      float64\n",
       "Days                            int64\n",
       "Departure_Date         datetime64[ns]\n",
       "Return_Date            datetime64[ns]\n",
       "                            ...      \n",
       "Is_MDR_Low_Grade_7              uint8\n",
       "Is_MDR_Low_Grade_8              uint8\n",
       "Is_MDR_Low_Grade_9              uint8\n",
       "Is_MDR_Low_Grade_K              uint8\n",
       "Is_MDR_Low_Grade_PK             uint8\n",
       "Length: 156, dtype: object"
      ]
     },
     "execution_count": 72,
     "metadata": {},
     "output_type": "execute_result"
    }
   ],
   "source": [
    "import numpy as np\n",
    "orth = pd.get_dummies(data_clean,columns=['Region'],prefix=['Is_Region'])\n",
    "orth = pd.get_dummies(orth,columns=['School_Type'],prefix=['Is_School_Type'])\n",
    "orth = pd.get_dummies(orth,columns=['SPR_Product_Type'],prefix=['Is_SPR_Product_Type'])\n",
    "orth = pd.get_dummies(orth,columns=['Group_State'],prefix=['Is_Group_State'])\n",
    "orth = pd.get_dummies(orth,columns=['GroupGradeTypeHigh'],prefix=['Is_GroupGradeTypeHigh'])\n",
    "orth = pd.get_dummies(orth,columns=['MajorProgramCode'],prefix=['Is_MajorProgramCode'])\n",
    "orth = pd.get_dummies(orth,columns=['Program_Code'],prefix=['Is_Program_Code'])\n",
    "orth = pd.get_dummies(orth,columns=['Travel_Type'],prefix=['Is_Travel_Type'])\n",
    "orth = pd.get_dummies(orth,columns=['SchoolGradeTypeLow'],prefix=['Is_SchoolGradeTypeLow'])\n",
    "orth = pd.get_dummies(orth,columns=['SchoolGradeTypeHigh'],prefix=['Is_SchoolGradeTypeHigh'])\n",
    "orth = pd.get_dummies(orth,columns=['SchoolSizeIndicator'],prefix=['Is_SchoolSizeIndicator'])\n",
    "orth = pd.get_dummies(orth,columns=['MDR_Low_Grade'],prefix=['Is_MDR_Low_Grade'])\n",
    "\n",
    "orth.to_csv(\"clean_model_norm.csv\", index = True)\n",
    "orth.dtypes"
   ]
  },
  {
   "cell_type": "code",
   "execution_count": 73,
   "metadata": {},
   "outputs": [],
   "source": [
    "#remove income_level undefined few rows\n",
    "orth = orth[orth.Income_Level != 'Z']\n",
    "orth = orth[orth.Poverty_Code != 'E']\n",
    "#categorize in ordered category\n",
    "from sklearn.preprocessing import LabelEncoder\n",
    "labelencoder = LabelEncoder()\n",
    "orth['Income_Level'] = labelencoder.fit_transform(orth['Income_Level'])\n",
    "orth['Poverty_Code'] = labelencoder.fit_transform(orth['Poverty_Code'])\n",
    "orth.to_csv(\"clean_model_orthnorm.csv\", index = True)"
   ]
  },
  {
   "cell_type": "code",
   "execution_count": 75,
   "metadata": {},
   "outputs": [],
   "source": [
    "#calculate month of departure and return date and diff from deposit date\n",
    "orth['Departure_Month'] = pd.DatetimeIndex(orth['Departure_Date']).month\n",
    "orth['Return_Month'] = pd.DatetimeIndex(orth['Return_Date']).month\n",
    "orth['Deposit_Days'] = (orth['Departure_Date'] - orth['Deposit_Date']).dt.days "
   ]
  },
  {
   "cell_type": "code",
   "execution_count": 76,
   "metadata": {},
   "outputs": [
    {
     "data": {
      "image/png": "[encoded data removed]",
      "text/plain": [
       "<Figure size 432x288 with 1 Axes>"
      ]
     },
     "metadata": {
      "needs_background": "light"
     },
     "output_type": "display_data"
    }
   ],
   "source": [
    "#scale numeric categories to be analyzed\n",
    "from sklearn.preprocessing import StandardScaler\n",
    "scaler = StandardScaler()\n",
    "orth[['Income_Level','Poverty_Code','To_Grade','Days','NumberOfMeetingswithParents']] = scaler.fit_transform(orth[['Income_Level','Poverty_Code','To_Grade','Days','NumberOfMeetingswithParents']])\n",
    "scaler = StandardScaler()\n",
    "orth[['FPP','From_Grade','Cancelled_Pax','Total_Discount_Pax','Total_Pax']] = scaler.fit_transform(orth[['FPP','From_Grade','Cancelled_Pax','Total_Discount_Pax','Total_Pax']])\n",
    "#data_clean.boxplot(column=['FPP','From_Grade','Cancelled_Pax','Total_Discount_Pax','Total_Pax'])\n",
    "orth[['FPP_to_School_enrollment','Tuition','FRP_Active','FRP_Cancelled','FRP_Take_up_percent_']] = scaler.fit_transform(orth[['FPP_to_School_enrollment','Tuition','FRP_Active','FRP_Cancelled','FRP_Take_up_percent_']])\n",
    "#data_clean.boxplot(column=['FPP_to_School_enrollment','Tuition','FRP_Active','FRP_Cancelled','FRP_Take_up_percent_'])\n",
    "orth[['EZ_Pay_Take_Up_Rate','School_Sponsor','SPR_Group_Revenue','FPP_to_PAX','Num_of_Non_FPP_PAX']] = scaler.fit_transform(orth[['EZ_Pay_Take_Up_Rate','School_Sponsor','SPR_Group_Revenue','FPP_to_PAX','Num_of_Non_FPP_PAX']])\n",
    "#data_clean.boxplot(column=['EZ_Pay_Take_Up_Rate','School_Sponsor','SPR_Group_Revenue','FPP_to_PAX','Num_of_Non_FPP_PAX'])\n",
    "#NB: 'MDR_Low_Grade' has K,PK? DifferenceTraveltoFirstMeeting <0, DifferenceTraveltoLasttMeeting<0\n",
    "orth[['CRM_Segment','MDR_High_Grade','Total_School_Enrollment','DifferenceTraveltoFirstMeeting','DifferenceTraveltoLastMeeting','Departure_Month','Return_Month','Deposit_Days']] = scaler.fit_transform(orth[['CRM_Segment','MDR_High_Grade','Total_School_Enrollment','DifferenceTraveltoFirstMeeting','DifferenceTraveltoLastMeeting','Departure_Month','Return_Month','Deposit_Days']])\n",
    "orth.boxplot(column=['CRM_Segment','MDR_High_Grade','Total_School_Enrollment','DifferenceTraveltoFirstMeeting','DifferenceTraveltoLastMeeting'])\n",
    "\n",
    "orth.to_csv(\"clean_model_normalized.csv\", index = True)"
   ]
  }
 ],
 "metadata": {
  "kernelspec": {
   "display_name": "Python 3",
   "language": "python",
   "name": "python3"
  },
  "language_info": {
   "codemirror_mode": {
    "name": "ipython",
    "version": 3
   },
   "file_extension": ".py",
   "mimetype": "text/x-python",
   "name": "python",
   "nbconvert_exporter": "python",
   "pygments_lexer": "ipython3",
   "version": "3.7.6"
  }
 },
 "nbformat": 4,
 "nbformat_minor": 4
}
